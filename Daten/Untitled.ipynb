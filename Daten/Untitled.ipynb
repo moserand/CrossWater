{
 "cells": [
  {
   "cell_type": "code",
   "execution_count": 1,
   "metadata": {
    "collapsed": true
   },
   "outputs": [],
   "source": [
    "total = 365 * 24"
   ]
  },
  {
   "cell_type": "code",
   "execution_count": 7,
   "metadata": {
    "collapsed": true
   },
   "outputs": [],
   "source": [
    "one = 0.3"
   ]
  },
  {
   "cell_type": "code",
   "execution_count": 10,
   "metadata": {
    "collapsed": false
   },
   "outputs": [
    {
     "data": {
      "text/plain": [
       "43.8"
      ]
     },
     "execution_count": 10,
     "metadata": {},
     "output_type": "execute_result"
    }
   ],
   "source": [
    "total * one / 60"
   ]
  },
  {
   "cell_type": "code",
   "execution_count": 16,
   "metadata": {
    "collapsed": false
   },
   "outputs": [
    {
     "data": {
      "text/plain": [
       "16.44730567932129"
      ]
     },
     "execution_count": 16,
     "metadata": {},
     "output_type": "execute_result"
    }
   ],
   "source": [
    "18000 * total * 4 * 28 / (1024 ** 3)"
   ]
  },
  {
   "cell_type": "code",
   "execution_count": 17,
   "metadata": {
    "collapsed": true
   },
   "outputs": [],
   "source": [
    "import sys"
   ]
  },
  {
   "cell_type": "code",
   "execution_count": 18,
   "metadata": {
    "collapsed": false
   },
   "outputs": [
    {
     "data": {
      "text/plain": [
       "24"
      ]
     },
     "execution_count": 18,
     "metadata": {},
     "output_type": "execute_result"
    }
   ],
   "source": [
    "sys.getsizeof(45.6)"
   ]
  },
  {
   "cell_type": "code",
   "execution_count": 19,
   "metadata": {
    "collapsed": true
   },
   "outputs": [],
   "source": [
    "d = {4, 5, 6, 7, 8, 9}"
   ]
  },
  {
   "cell_type": "code",
   "execution_count": 20,
   "metadata": {
    "collapsed": false
   },
   "outputs": [
    {
     "ename": "TypeError",
     "evalue": "'set' object is not subscriptable",
     "output_type": "error",
     "traceback": [
      "\u001b[1;31m---------------------------------------------------------------------------\u001b[0m",
      "\u001b[1;31mTypeError\u001b[0m                                 Traceback (most recent call last)",
      "\u001b[1;32m<ipython-input-20-2e1e1adfd527>\u001b[0m in \u001b[0;36m<module>\u001b[1;34m()\u001b[0m\n\u001b[1;32m----> 1\u001b[1;33m \u001b[0md\u001b[0m\u001b[1;33m[\u001b[0m\u001b[1;33m:\u001b[0m\u001b[1;36m3\u001b[0m\u001b[1;33m]\u001b[0m\u001b[1;33m\u001b[0m\u001b[0m\n\u001b[0m",
      "\u001b[1;31mTypeError\u001b[0m: 'set' object is not subscriptable"
     ]
    }
   ],
   "source": [
    "d[:3]"
   ]
  },
  {
   "cell_type": "code",
   "execution_count": 21,
   "metadata": {
    "collapsed": true
   },
   "outputs": [],
   "source": [
    "L = list(range(20))"
   ]
  },
  {
   "cell_type": "code",
   "execution_count": 22,
   "metadata": {
    "collapsed": false
   },
   "outputs": [
    {
     "data": {
      "text/plain": [
       "[0, 1, 2, 3, 4, 5, 6, 7, 8, 9, 10, 11, 12, 13, 14, 15, 16, 17, 18, 19]"
      ]
     },
     "execution_count": 22,
     "metadata": {},
     "output_type": "execute_result"
    }
   ],
   "source": [
    "L"
   ]
  },
  {
   "cell_type": "code",
   "execution_count": 25,
   "metadata": {
    "collapsed": false
   },
   "outputs": [
    {
     "data": {
      "text/plain": [
       "[18, 19]"
      ]
     },
     "execution_count": 25,
     "metadata": {},
     "output_type": "execute_result"
    }
   ],
   "source": [
    "L[-2:]"
   ]
  },
  {
   "cell_type": "code",
   "execution_count": 28,
   "metadata": {
    "collapsed": false
   },
   "outputs": [
    {
     "data": {
      "text/plain": [
       "[0, 1, 2, 3, 4, 5, 6, 7, 8, 9, 10, 11, 12, 13, 14, 15, 16, 17]"
      ]
     },
     "execution_count": 28,
     "metadata": {},
     "output_type": "execute_result"
    }
   ],
   "source": [
    "L[:-2]"
   ]
  },
  {
   "cell_type": "code",
   "execution_count": 31,
   "metadata": {
    "collapsed": false
   },
   "outputs": [
    {
     "data": {
      "text/plain": [
       "0.06666666666666667"
      ]
     },
     "execution_count": 31,
     "metadata": {},
     "output_type": "execute_result"
    }
   ],
   "source": [
    "10 / 15000 * 100"
   ]
  },
  {
   "cell_type": "code",
   "execution_count": 7,
   "metadata": {
    "collapsed": true
   },
   "outputs": [],
   "source": [
    "import tables"
   ]
  },
  {
   "cell_type": "code",
   "execution_count": 8,
   "metadata": {
    "collapsed": true
   },
   "outputs": [],
   "source": [
    "h5_file = tables.open_file('test.h5', 'w')"
   ]
  },
  {
   "cell_type": "code",
   "execution_count": 9,
   "metadata": {
    "collapsed": true
   },
   "outputs": [],
   "source": [
    "g = h5_file.create_group('/', 'g1')"
   ]
  },
  {
   "cell_type": "code",
   "execution_count": 10,
   "metadata": {
    "collapsed": false
   },
   "outputs": [
    {
     "data": {
      "text/plain": [
       "/g1 (Group) ''\n",
       "  children := []"
      ]
     },
     "execution_count": 10,
     "metadata": {},
     "output_type": "execute_result"
    }
   ],
   "source": [
    "g"
   ]
  },
  {
   "cell_type": "code",
   "execution_count": 11,
   "metadata": {
    "collapsed": false
   },
   "outputs": [
    {
     "data": {
      "text/plain": [
       "/g1 (Group) ''\n",
       "  children := []"
      ]
     },
     "execution_count": 11,
     "metadata": {},
     "output_type": "execute_result"
    }
   ],
   "source": [
    "h5_file.root._f_getChild('g1')"
   ]
  },
  {
   "cell_type": "code",
   "execution_count": 12,
   "metadata": {
    "collapsed": false
   },
   "outputs": [
    {
     "data": {
      "text/plain": [
       "<bound method RootGroup._f_get_child of / (RootGroup) ''\n",
       "  children := ['g1' (Group)]>"
      ]
     },
     "execution_count": 12,
     "metadata": {},
     "output_type": "execute_result"
    }
   ],
   "source": [
    "h5_file.root._f_get_child"
   ]
  },
  {
   "cell_type": "code",
   "execution_count": 15,
   "metadata": {
    "collapsed": false
   },
   "outputs": [],
   "source": [
    "class MyTable(tables.IsDescription):\n",
    "    name = tables.StringCol(10)\n",
    "t = h5_file.create_table(g, 't1', MyTable)"
   ]
  },
  {
   "cell_type": "code",
   "execution_count": null,
   "metadata": {
    "collapsed": true
   },
   "outputs": [],
   "source": [
    "t = h5_file.create_table"
   ]
  },
  {
   "cell_type": "code",
   "execution_count": 41,
   "metadata": {
    "collapsed": false
   },
   "outputs": [
    {
     "data": {
      "text/plain": [
       "131400000"
      ]
     },
     "execution_count": 41,
     "metadata": {},
     "output_type": "execute_result"
    }
   ],
   "source": [
    "total * 15000"
   ]
  },
  {
   "cell_type": "code",
   "execution_count": 14,
   "metadata": {
    "collapsed": true
   },
   "outputs": [],
   "source": []
  },
  {
   "cell_type": "code",
   "execution_count": 45,
   "metadata": {
    "collapsed": true
   },
   "outputs": [],
   "source": [
    "h5_file.create_table?"
   ]
  },
  {
   "cell_type": "code",
   "execution_count": 16,
   "metadata": {
    "collapsed": true
   },
   "outputs": [],
   "source": [
    "row = t.row\n",
    "for x in range(100):\n",
    "    row['name'] = str(x)\n",
    "    row.append()"
   ]
  },
  {
   "cell_type": "code",
   "execution_count": 17,
   "metadata": {
    "collapsed": false
   },
   "outputs": [
    {
     "data": {
      "text/plain": [
       "/g1/t1 (Table(0,)) ''\n",
       "  description := {\n",
       "  \"name\": StringCol(itemsize=10, shape=(), dflt=b'', pos=0)}\n",
       "  byteorder := 'little'\n",
       "  chunkshape := (6553,)"
      ]
     },
     "execution_count": 17,
     "metadata": {},
     "output_type": "execute_result"
    }
   ],
   "source": [
    "t"
   ]
  },
  {
   "cell_type": "code",
   "execution_count": 19,
   "metadata": {
    "collapsed": true
   },
   "outputs": [],
   "source": [
    "h5_file.flush()"
   ]
  },
  {
   "cell_type": "code",
   "execution_count": 20,
   "metadata": {
    "collapsed": false
   },
   "outputs": [
    {
     "data": {
      "text/plain": [
       "array([(b'0',), (b'1',), (b'2',), (b'3',), (b'4',), (b'5',), (b'6',),\n",
       "       (b'7',), (b'8',), (b'9',), (b'10',), (b'11',), (b'12',), (b'13',),\n",
       "       (b'14',), (b'15',), (b'16',), (b'17',), (b'18',), (b'19',),\n",
       "       (b'20',), (b'21',), (b'22',), (b'23',), (b'24',), (b'25',),\n",
       "       (b'26',), (b'27',), (b'28',), (b'29',), (b'30',), (b'31',),\n",
       "       (b'32',), (b'33',), (b'34',), (b'35',), (b'36',), (b'37',),\n",
       "       (b'38',), (b'39',), (b'40',), (b'41',), (b'42',), (b'43',),\n",
       "       (b'44',), (b'45',), (b'46',), (b'47',), (b'48',), (b'49',),\n",
       "       (b'50',), (b'51',), (b'52',), (b'53',), (b'54',), (b'55',),\n",
       "       (b'56',), (b'57',), (b'58',), (b'59',), (b'60',), (b'61',),\n",
       "       (b'62',), (b'63',), (b'64',), (b'65',), (b'66',), (b'67',),\n",
       "       (b'68',), (b'69',), (b'70',), (b'71',), (b'72',), (b'73',),\n",
       "       (b'74',), (b'75',), (b'76',), (b'77',), (b'78',), (b'79',),\n",
       "       (b'80',), (b'81',), (b'82',), (b'83',), (b'84',), (b'85',),\n",
       "       (b'86',), (b'87',), (b'88',), (b'89',), (b'90',), (b'91',),\n",
       "       (b'92',), (b'93',), (b'94',), (b'95',), (b'96',), (b'97',),\n",
       "       (b'98',), (b'99',)], \n",
       "      dtype=[('name', 'S10')])"
      ]
     },
     "execution_count": 20,
     "metadata": {},
     "output_type": "execute_result"
    }
   ],
   "source": [
    "t[:]"
   ]
  },
  {
   "cell_type": "code",
   "execution_count": null,
   "metadata": {
    "collapsed": false
   },
   "outputs": [],
   "source": [
    "for line in t:\n",
    "    print(line.fetch_all_fields())"
   ]
  },
  {
   "cell_type": "code",
   "execution_count": 54,
   "metadata": {
    "collapsed": false
   },
   "outputs": [
    {
     "data": {
      "text/plain": [
       "array([(b'0',), (b'1',), (b'2',), (b'3',), (b'4',), (b'5',), (b'6',),\n",
       "       (b'7',), (b'8',), (b'9',)], \n",
       "      dtype=[('name', 'S10')])"
      ]
     },
     "execution_count": 54,
     "metadata": {},
     "output_type": "execute_result"
    }
   ],
   "source": [
    "t[:10]"
   ]
  },
  {
   "cell_type": "code",
   "execution_count": 64,
   "metadata": {
    "collapsed": false
   },
   "outputs": [],
   "source": [
    "for row in t:\n",
    "    row['name'] = 'new'\n",
    "    row.update()\n",
    "h5_file.flush()"
   ]
  },
  {
   "cell_type": "code",
   "execution_count": 65,
   "metadata": {
    "collapsed": false
   },
   "outputs": [
    {
     "data": {
      "text/plain": [
       "array([(b'new',), (b'new',), (b'new',), (b'new',), (b'new',), (b'new',),\n",
       "       (b'new',), (b'new',), (b'new',), (b'new',)], \n",
       "      dtype=[('name', 'S10')])"
      ]
     },
     "execution_count": 65,
     "metadata": {},
     "output_type": "execute_result"
    }
   ],
   "source": [
    "t[:10]"
   ]
  },
  {
   "cell_type": "code",
   "execution_count": 62,
   "metadata": {
    "collapsed": false
   },
   "outputs": [],
   "source": [
    "t.row.update?"
   ]
  },
  {
   "cell_type": "code",
   "execution_count": 66,
   "metadata": {
    "collapsed": true
   },
   "outputs": [],
   "source": [
    "h5_file.create_table?"
   ]
  },
  {
   "cell_type": "code",
   "execution_count": 67,
   "metadata": {
    "collapsed": false
   },
   "outputs": [
    {
     "data": {
      "text/plain": [
       "10000"
      ]
     },
     "execution_count": 67,
     "metadata": {},
     "output_type": "execute_result"
    }
   ],
   "source": [
    "tables.parameters.EXPECTED_ROWS_TABLE"
   ]
  },
  {
   "cell_type": "code",
   "execution_count": 68,
   "metadata": {
    "collapsed": true
   },
   "outputs": [],
   "source": [
    "import sys"
   ]
  },
  {
   "cell_type": "code",
   "execution_count": 71,
   "metadata": {
    "collapsed": false
   },
   "outputs": [
    {
     "data": {
      "text/plain": [
       "24"
      ]
     },
     "execution_count": 71,
     "metadata": {},
     "output_type": "execute_result"
    }
   ],
   "source": [
    "sys.getsizeof(26569.656)"
   ]
  },
  {
   "cell_type": "code",
   "execution_count": 72,
   "metadata": {
    "collapsed": false
   },
   "outputs": [
    {
     "data": {
      "text/plain": [
       "34"
      ]
     },
     "execution_count": 72,
     "metadata": {},
     "output_type": "execute_result"
    }
   ],
   "source": [
    "sys.getsizeof(b'0')"
   ]
  },
  {
   "cell_type": "code",
   "execution_count": 73,
   "metadata": {
    "collapsed": false
   },
   "outputs": [
    {
     "data": {
      "text/plain": [
       "8760"
      ]
     },
     "execution_count": 73,
     "metadata": {},
     "output_type": "execute_result"
    }
   ],
   "source": [
    "total"
   ]
  },
  {
   "cell_type": "code",
   "execution_count": 74,
   "metadata": {
    "collapsed": true
   },
   "outputs": [],
   "source": [
    "ids = 18000"
   ]
  },
  {
   "cell_type": "code",
   "execution_count": 77,
   "metadata": {
    "collapsed": false
   },
   "outputs": [],
   "source": [
    "a = total * ids * 3"
   ]
  },
  {
   "cell_type": "code",
   "execution_count": 78,
   "metadata": {
    "collapsed": false
   },
   "outputs": [
    {
     "data": {
      "text/plain": [
       "'4.730400e+08'"
      ]
     },
     "execution_count": 78,
     "metadata": {},
     "output_type": "execute_result"
    }
   ],
   "source": [
    "'{:e}'.format(a)"
   ]
  },
  {
   "cell_type": "code",
   "execution_count": 84,
   "metadata": {
    "collapsed": false
   },
   "outputs": [
    {
     "data": {
      "text/plain": [
       "12.335479259490967"
      ]
     },
     "execution_count": 84,
     "metadata": {},
     "output_type": "execute_result"
    }
   ],
   "source": [
    "a * 28 / (1024 ** 3)"
   ]
  },
  {
   "cell_type": "code",
   "execution_count": 85,
   "metadata": {
    "collapsed": true
   },
   "outputs": [],
   "source": [
    "import pathlib"
   ]
  },
  {
   "cell_type": "code",
   "execution_count": 87,
   "metadata": {
    "collapsed": false
   },
   "outputs": [],
   "source": [
    "p = pathlib.Path('.')"
   ]
  },
  {
   "cell_type": "code",
   "execution_count": 88,
   "metadata": {
    "collapsed": false
   },
   "outputs": [
    {
     "data": {
      "text/plain": [
       "True"
      ]
     },
     "execution_count": 88,
     "metadata": {},
     "output_type": "execute_result"
    }
   ],
   "source": [
    "p.exists()"
   ]
  },
  {
   "cell_type": "code",
   "execution_count": 89,
   "metadata": {
    "collapsed": true
   },
   "outputs": [],
   "source": [
    "import shutil"
   ]
  },
  {
   "cell_type": "code",
   "execution_count": 90,
   "metadata": {
    "collapsed": true
   },
   "outputs": [],
   "source": [
    "shutil.rmtree?"
   ]
  },
  {
   "cell_type": "code",
   "execution_count": 91,
   "metadata": {
    "collapsed": true
   },
   "outputs": [],
   "source": [
    "p.rmdir?"
   ]
  },
  {
   "cell_type": "code",
   "execution_count": 92,
   "metadata": {
    "collapsed": true
   },
   "outputs": [],
   "source": [
    "shutil.copytree?"
   ]
  },
  {
   "cell_type": "code",
   "execution_count": 93,
   "metadata": {
    "collapsed": false
   },
   "outputs": [
    {
     "name": "stdout",
     "output_type": "stream",
     "text": [
      " Volume in Laufwerk C: hat keine Bezeichnung.\n",
      " Volumeseriennummer: 62CF-80D5\n",
      "\n",
      " Verzeichnis von c:\\Daten\\Mike\\projekte\\2015_006_crosswater\\Daten\n",
      "\n",
      "09.08.2015  13:23    <DIR>          .\n",
      "09.08.2015  13:23    <DIR>          ..\n",
      "08.08.2015  22:56    <DIR>          .ipynb_checkpoints\n",
      "01.08.2015  15:28    <DIR>          Discharge\n",
      "08.08.2015  22:40    <DIR>          GIS\n",
      "01.08.2015  15:29    <DIR>          Landuse\n",
      "01.08.2015  15:29    <DIR>          Precipitation\n",
      "01.08.2015  15:30    <DIR>          Temperature\n",
      "09.08.2015  02:00            70.682 test.h5\n",
      "09.08.2015  13:23            15.525 Untitled.ipynb\n",
      "               2 Datei(en),         86.207 Bytes\n",
      "               8 Verzeichnis(se), 493.283.311.616 Bytes frei\n"
     ]
    }
   ],
   "source": [
    "ls"
   ]
  },
  {
   "cell_type": "code",
   "execution_count": 94,
   "metadata": {
    "collapsed": true
   },
   "outputs": [],
   "source": [
    "mkdir test"
   ]
  },
  {
   "cell_type": "code",
   "execution_count": 95,
   "metadata": {
    "collapsed": false
   },
   "outputs": [
    {
     "name": "stdout",
     "output_type": "stream",
     "text": [
      "c:\\Daten\\Mike\\projekte\\2015_006_crosswater\\Daten\\test\n"
     ]
    }
   ],
   "source": [
    "cd test"
   ]
  },
  {
   "cell_type": "code",
   "execution_count": 96,
   "metadata": {
    "collapsed": true
   },
   "outputs": [],
   "source": [
    "mkdir src"
   ]
  },
  {
   "cell_type": "code",
   "execution_count": 98,
   "metadata": {
    "collapsed": true
   },
   "outputs": [],
   "source": [
    "!touch src/f2.txt"
   ]
  },
  {
   "cell_type": "code",
   "execution_count": 100,
   "metadata": {
    "collapsed": false
   },
   "outputs": [
    {
     "name": "stdout",
     "output_type": "stream",
     "text": [
      " Volume in Laufwerk C: hat keine Bezeichnung.\n",
      " Volumeseriennummer: 62CF-80D5\n",
      "\n",
      " Verzeichnis von c:\\Daten\\Mike\\projekte\\2015_006_crosswater\\Daten\\test\\src\n",
      "\n",
      "09.08.2015  13:26    <DIR>          .\n",
      "09.08.2015  13:26    <DIR>          ..\n",
      "09.08.2015  13:26                 0 f1.txt\n",
      "09.08.2015  13:26                 0 f2.txt\n",
      "               2 Datei(en),              0 Bytes\n",
      "               2 Verzeichnis(se), 493.283.307.520 Bytes frei\n"
     ]
    }
   ],
   "source": [
    "ls src"
   ]
  },
  {
   "cell_type": "code",
   "execution_count": 101,
   "metadata": {
    "collapsed": false
   },
   "outputs": [
    {
     "data": {
      "text/plain": [
       "'dst'"
      ]
     },
     "execution_count": 101,
     "metadata": {},
     "output_type": "execute_result"
    }
   ],
   "source": [
    "shutil.copytree('src', 'dst')"
   ]
  },
  {
   "cell_type": "code",
   "execution_count": 102,
   "metadata": {
    "collapsed": false
   },
   "outputs": [
    {
     "name": "stdout",
     "output_type": "stream",
     "text": [
      " Volume in Laufwerk C: hat keine Bezeichnung.\n",
      " Volumeseriennummer: 62CF-80D5\n",
      "\n",
      " Verzeichnis von c:\\Daten\\Mike\\projekte\\2015_006_crosswater\\Daten\\test\\dst\n",
      "\n",
      "09.08.2015  13:26    <DIR>          .\n",
      "09.08.2015  13:26    <DIR>          ..\n",
      "09.08.2015  13:26                 0 f1.txt\n",
      "09.08.2015  13:26                 0 f2.txt\n",
      "               2 Datei(en),              0 Bytes\n",
      "               2 Verzeichnis(se), 493.283.241.984 Bytes frei\n"
     ]
    }
   ],
   "source": [
    "ls dst"
   ]
  },
  {
   "cell_type": "code",
   "execution_count": 105,
   "metadata": {
    "collapsed": false
   },
   "outputs": [],
   "source": [
    "from pathlib import Path"
   ]
  },
  {
   "cell_type": "code",
   "execution_count": 110,
   "metadata": {
    "collapsed": false
   },
   "outputs": [],
   "source": [
    "p = Path(Path().cwd())"
   ]
  },
  {
   "cell_type": "code",
   "execution_count": 111,
   "metadata": {
    "collapsed": false
   },
   "outputs": [
    {
     "data": {
      "text/plain": [
       "WindowsPath('c:/Daten/Mike/projekte/2015_006_crosswater/Daten')"
      ]
     },
     "execution_count": 111,
     "metadata": {},
     "output_type": "execute_result"
    }
   ],
   "source": [
    "p.parent"
   ]
  },
  {
   "cell_type": "code",
   "execution_count": 112,
   "metadata": {
    "collapsed": false
   },
   "outputs": [
    {
     "data": {
      "text/plain": [
       "WindowsPath('c:/Daten/Mike/projekte/2015_006_crosswater/Daten/test')"
      ]
     },
     "execution_count": 112,
     "metadata": {},
     "output_type": "execute_result"
    }
   ],
   "source": [
    "p"
   ]
  },
  {
   "cell_type": "code",
   "execution_count": 114,
   "metadata": {
    "collapsed": false
   },
   "outputs": [
    {
     "data": {
      "text/plain": [
       "WindowsPath('c:/Daten/Mike/projekte/2015_006_crosswater/Daten/test')"
      ]
     },
     "execution_count": 114,
     "metadata": {},
     "output_type": "execute_result"
    }
   ],
   "source": [
    "p.absolute()"
   ]
  },
  {
   "cell_type": "code",
   "execution_count": 118,
   "metadata": {
    "collapsed": false
   },
   "outputs": [],
   "source": [
    "par = p.parents"
   ]
  },
  {
   "cell_type": "code",
   "execution_count": 120,
   "metadata": {
    "collapsed": false
   },
   "outputs": [
    {
     "data": {
      "text/plain": [
       "[WindowsPath('c:/Daten/Mike/projekte/2015_006_crosswater/Daten'),\n",
       " WindowsPath('c:/Daten/Mike/projekte/2015_006_crosswater'),\n",
       " WindowsPath('c:/Daten/Mike/projekte'),\n",
       " WindowsPath('c:/Daten/Mike'),\n",
       " WindowsPath('c:/Daten'),\n",
       " WindowsPath('c:/')]"
      ]
     },
     "execution_count": 120,
     "metadata": {},
     "output_type": "execute_result"
    }
   ],
   "source": [
    "list(par)"
   ]
  },
  {
   "cell_type": "code",
   "execution_count": 121,
   "metadata": {
    "collapsed": false
   },
   "outputs": [
    {
     "data": {
      "text/plain": [
       "WindowsPath('c:/Daten/Mike/projekte/2015_006_crosswater/Daten/test')"
      ]
     },
     "execution_count": 121,
     "metadata": {},
     "output_type": "execute_result"
    }
   ],
   "source": [
    "p"
   ]
  },
  {
   "cell_type": "code",
   "execution_count": 122,
   "metadata": {
    "collapsed": false
   },
   "outputs": [
    {
     "data": {
      "text/plain": [
       "WindowsPath('c:/Daten/Mike/projekte/2015_006_crosswater/Daten')"
      ]
     },
     "execution_count": 122,
     "metadata": {},
     "output_type": "execute_result"
    }
   ],
   "source": [
    "par[0]"
   ]
  },
  {
   "cell_type": "code",
   "execution_count": 123,
   "metadata": {
    "collapsed": false
   },
   "outputs": [
    {
     "data": {
      "text/plain": [
       "14154.192000000001"
      ]
     },
     "execution_count": 123,
     "metadata": {},
     "output_type": "execute_result"
    }
   ],
   "source": [
    "589.758 * 24"
   ]
  },
  {
   "cell_type": "code",
   "execution_count": 124,
   "metadata": {
    "collapsed": false
   },
   "outputs": [
    {
     "data": {
      "text/plain": [
       "4800"
      ]
     },
     "execution_count": 124,
     "metadata": {},
     "output_type": "execute_result"
    }
   ],
   "source": [
    "200 * 24"
   ]
  },
  {
   "cell_type": "code",
   "execution_count": 125,
   "metadata": {
    "collapsed": false
   },
   "outputs": [
    {
     "data": {
      "text/plain": [
       "21600"
      ]
     },
     "execution_count": 125,
     "metadata": {},
     "output_type": "execute_result"
    }
   ],
   "source": [
    "900 * 24"
   ]
  },
  {
   "cell_type": "code",
   "execution_count": 134,
   "metadata": {
    "collapsed": false
   },
   "outputs": [
    {
     "data": {
      "text/plain": [
       "/g1 (Group) ''\n",
       "  children := ['t1' (Table)]"
      ]
     },
     "execution_count": 134,
     "metadata": {},
     "output_type": "execute_result"
    }
   ],
   "source": [
    "h5_file.get_node('/', 'g1')"
   ]
  },
  {
   "cell_type": "code",
   "execution_count": 132,
   "metadata": {
    "collapsed": false
   },
   "outputs": [
    {
     "data": {
      "text/plain": [
       "File(filename=test.h5, title='', mode='w', root_uep='/', filters=Filters(complevel=0, shuffle=False, fletcher32=False, least_significant_digit=None))\n",
       "/ (RootGroup) ''\n",
       "/g1 (Group) ''\n",
       "/g1/t1 (Table(100,)) ''\n",
       "  description := {\n",
       "  \"name\": StringCol(itemsize=10, shape=(), dflt=b'', pos=0)}\n",
       "  byteorder := 'little'\n",
       "  chunkshape := (6553,)"
      ]
     },
     "execution_count": 132,
     "metadata": {},
     "output_type": "execute_result"
    }
   ],
   "source": [
    "h5_file"
   ]
  },
  {
   "cell_type": "code",
   "execution_count": 135,
   "metadata": {
    "collapsed": true
   },
   "outputs": [],
   "source": [
    "import string"
   ]
  },
  {
   "cell_type": "code",
   "execution_count": 137,
   "metadata": {
    "collapsed": false
   },
   "outputs": [],
   "source": [
    "lay = Path('c:\\Daten\\Mike\\projekte\\2015_006_crosswater\\rhine_model\\templates\\layout_atrazin.xml')"
   ]
  },
  {
   "cell_type": "code",
   "execution_count": 138,
   "metadata": {
    "collapsed": false
   },
   "outputs": [
    {
     "data": {
      "text/plain": [
       "'layout_atrazin.xml'"
      ]
     },
     "execution_count": 138,
     "metadata": {},
     "output_type": "execute_result"
    }
   ],
   "source": [
    "lay.name"
   ]
  },
  {
   "cell_type": "code",
   "execution_count": 139,
   "metadata": {
    "collapsed": false
   },
   "outputs": [
    {
     "data": {
      "text/plain": [
       "'layout_atrazin'"
      ]
     },
     "execution_count": 139,
     "metadata": {},
     "output_type": "execute_result"
    }
   ],
   "source": [
    "lay.stem"
   ]
  },
  {
   "cell_type": "code",
   "execution_count": 140,
   "metadata": {
    "collapsed": false
   },
   "outputs": [
    {
     "data": {
      "text/plain": [
       "'.xml'"
      ]
     },
     "execution_count": 140,
     "metadata": {},
     "output_type": "execute_result"
    }
   ],
   "source": [
    "lay.suffix"
   ]
  },
  {
   "cell_type": "code",
   "execution_count": 141,
   "metadata": {
    "collapsed": false
   },
   "outputs": [
    {
     "data": {
      "text/plain": [
       "/g1 (Group) ''\n",
       "  children := ['t1' (Table)]"
      ]
     },
     "execution_count": 141,
     "metadata": {},
     "output_type": "execute_result"
    }
   ],
   "source": [
    "g"
   ]
  },
  {
   "cell_type": "code",
   "execution_count": 142,
   "metadata": {
    "collapsed": false
   },
   "outputs": [
    {
     "data": {
      "text/plain": [
       "['_AttributeSet',\n",
       " '__class__',\n",
       " '__contains__',\n",
       " '__del__',\n",
       " '__delattr__',\n",
       " '__dict__',\n",
       " '__dir__',\n",
       " '__doc__',\n",
       " '__eq__',\n",
       " '__format__',\n",
       " '__ge__',\n",
       " '__getattr__',\n",
       " '__getattribute__',\n",
       " '__gt__',\n",
       " '__hash__',\n",
       " '__init__',\n",
       " '__iter__',\n",
       " '__le__',\n",
       " '__lt__',\n",
       " '__members__',\n",
       " '__module__',\n",
       " '__ne__',\n",
       " '__new__',\n",
       " '__reduce__',\n",
       " '__reduce_ex__',\n",
       " '__repr__',\n",
       " '__setattr__',\n",
       " '__sizeof__',\n",
       " '__str__',\n",
       " '__subclasshook__',\n",
       " '__weakref__',\n",
       " '_c_classId',\n",
       " '_c_classid',\n",
       " '_c_lazy_children_attrs',\n",
       " '_f_close',\n",
       " '_f_copy',\n",
       " '_f_copyChildren',\n",
       " '_f_copy_children',\n",
       " '_f_delAttr',\n",
       " '_f_delattr',\n",
       " '_f_flush',\n",
       " '_f_getAttr',\n",
       " '_f_getChild',\n",
       " '_f_get_child',\n",
       " '_f_getattr',\n",
       " '_f_isVisible',\n",
       " '_f_isvisible',\n",
       " '_f_iterNodes',\n",
       " '_f_iter_nodes',\n",
       " '_f_listNodes',\n",
       " '_f_list_nodes',\n",
       " '_f_move',\n",
       " '_f_remove',\n",
       " '_f_rename',\n",
       " '_f_setAttr',\n",
       " '_f_setattr',\n",
       " '_f_walkGroups',\n",
       " '_f_walkNodes',\n",
       " '_f_walk_groups',\n",
       " '_f_walknodes',\n",
       " '_g_addChildrenNames',\n",
       " '_g_add_children_names',\n",
       " '_g_checkGroup',\n",
       " '_g_checkHasChild',\n",
       " '_g_checkName',\n",
       " '_g_checkNotContains',\n",
       " '_g_checkOpen',\n",
       " '_g_check_group',\n",
       " '_g_check_has_child',\n",
       " '_g_check_name',\n",
       " '_g_check_not_contains',\n",
       " '_g_check_open',\n",
       " '_g_close',\n",
       " '_g_closeDescendents',\n",
       " '_g_closeGroup',\n",
       " '_g_close_descendents',\n",
       " '_g_close_group',\n",
       " '_g_copy',\n",
       " '_g_copyAsChild',\n",
       " '_g_copyChildren',\n",
       " '_g_copy_as_child',\n",
       " '_g_copy_children',\n",
       " '_g_create',\n",
       " '_g_delLocation',\n",
       " '_g_del_location',\n",
       " '_g_delete',\n",
       " '_g_delfilters',\n",
       " '_g_flushGroup',\n",
       " '_g_flush_group',\n",
       " '_g_getChildGroupClass',\n",
       " '_g_getChildLeafClass',\n",
       " '_g_getGChildAttr',\n",
       " '_g_getLChildAttr',\n",
       " '_g_get_child_group_class',\n",
       " '_g_get_child_leaf_class',\n",
       " '_g_get_gchild_attr',\n",
       " '_g_get_lchild_attr',\n",
       " '_g_get_objinfo',\n",
       " '_g_getfilters',\n",
       " '_g_getnchildren',\n",
       " '_g_getparent',\n",
       " '_g_gettitle',\n",
       " '_g_join',\n",
       " '_g_listGroup',\n",
       " '_g_list_group',\n",
       " '_g_logCreate',\n",
       " '_g_logMove',\n",
       " '_g_log_create',\n",
       " '_g_log_move',\n",
       " '_g_maybeRemove',\n",
       " '_g_maybe_remove',\n",
       " '_g_move',\n",
       " '_g_moveNode',\n",
       " '_g_move_node',\n",
       " '_g_new',\n",
       " '_g_open',\n",
       " '_g_postInitHook',\n",
       " '_g_post_init_hook',\n",
       " '_g_preKillHook',\n",
       " '_g_pre_kill_hook',\n",
       " '_g_refNode',\n",
       " '_g_refnode',\n",
       " '_g_remove',\n",
       " '_g_removeAndLog',\n",
       " '_g_remove_and_log',\n",
       " '_g_setLocation',\n",
       " '_g_set_location',\n",
       " '_g_setfilters',\n",
       " '_g_settitle',\n",
       " '_g_unrefNode',\n",
       " '_g_unrefnode',\n",
       " '_g_updateDependent',\n",
       " '_g_updateLocation',\n",
       " '_g_update_dependent',\n",
       " '_g_update_location',\n",
       " '_g_widthWarning',\n",
       " '_g_width_warning',\n",
       " '_get_obj_info',\n",
       " '_v__deleting',\n",
       " '_v_attrs',\n",
       " '_v_children',\n",
       " '_v_depth',\n",
       " '_v_file',\n",
       " '_v_filters',\n",
       " '_v_groups',\n",
       " '_v_hidden',\n",
       " '_v_isopen',\n",
       " '_v_leaves',\n",
       " '_v_links',\n",
       " '_v_maxGroupWidth',\n",
       " '_v_maxTreeDepth',\n",
       " '_v_max_group_width',\n",
       " '_v_maxtreedepth',\n",
       " '_v_name',\n",
       " '_v_nchildren',\n",
       " '_v_new',\n",
       " '_v_new_filters',\n",
       " '_v_new_title',\n",
       " '_v_objectId',\n",
       " '_v_objectid',\n",
       " '_v_parent',\n",
       " '_v_pathname',\n",
       " '_v_title',\n",
       " '_v_unknown',\n",
       " '_v_version']"
      ]
     },
     "execution_count": 142,
     "metadata": {},
     "output_type": "execute_result"
    }
   ],
   "source": [
    "dir(g)"
   ]
  },
  {
   "cell_type": "code",
   "execution_count": 144,
   "metadata": {
    "collapsed": false
   },
   "outputs": [
    {
     "data": {
      "text/plain": [
       "/g1/t1 (Table(100,)) ''\n",
       "  description := {\n",
       "  \"name\": StringCol(itemsize=10, shape=(), dflt=b'', pos=0)}\n",
       "  byteorder := 'little'\n",
       "  chunkshape := (6553,)"
      ]
     },
     "execution_count": 144,
     "metadata": {},
     "output_type": "execute_result"
    }
   ],
   "source": [
    "g._f_get_child('t1')"
   ]
  },
  {
   "cell_type": "code",
   "execution_count": 145,
   "metadata": {
    "collapsed": true
   },
   "outputs": [],
   "source": [
    "import contextlib"
   ]
  },
  {
   "cell_type": "code",
   "execution_count": 148,
   "metadata": {
    "collapsed": true
   },
   "outputs": [],
   "source": [
    "contextlib.suppress?"
   ]
  },
  {
   "cell_type": "code",
   "execution_count": 149,
   "metadata": {
    "collapsed": true
   },
   "outputs": [],
   "source": [
    "s = '\"346352\";\"346350\";\"346351\";\"346358\";\"346359\";\"335656\";\"335654\";\"335655\";\"335652\";\"335651\"'"
   ]
  },
  {
   "cell_type": "code",
   "execution_count": 152,
   "metadata": {
    "collapsed": false
   },
   "outputs": [
    {
     "data": {
      "text/plain": [
       "[346352,\n",
       " 346350,\n",
       " 346351,\n",
       " 346358,\n",
       " 346359,\n",
       " 335656,\n",
       " 335654,\n",
       " 335655,\n",
       " 335652,\n",
       " 335651]"
      ]
     },
     "execution_count": 152,
     "metadata": {},
     "output_type": "execute_result"
    }
   ],
   "source": [
    "[int(x[1:-1]) for x in s.split(';')]"
   ]
  },
  {
   "cell_type": "code",
   "execution_count": 153,
   "metadata": {
    "collapsed": false
   },
   "outputs": [
    {
     "data": {
      "text/plain": [
       "89.59944444444444"
      ]
     },
     "execution_count": 153,
     "metadata": {},
     "output_type": "execute_result"
    }
   ],
   "source": [
    "322558 / 3600"
   ]
  },
  {
   "cell_type": "code",
   "execution_count": 156,
   "metadata": {
    "collapsed": false
   },
   "outputs": [
    {
     "data": {
      "text/plain": [
       "262800"
      ]
     },
     "execution_count": 156,
     "metadata": {},
     "output_type": "execute_result"
    }
   ],
   "source": [
    "30 * 365 * 24"
   ]
  },
  {
   "cell_type": "code",
   "execution_count": 158,
   "metadata": {
    "collapsed": false
   },
   "outputs": [
    {
     "data": {
      "text/plain": [
       "3.6793287037037037"
      ]
     },
     "execution_count": 158,
     "metadata": {},
     "output_type": "execute_result"
    }
   ],
   "source": [
    "317894 / 3600 / 24"
   ]
  },
  {
   "cell_type": "code",
   "execution_count": 161,
   "metadata": {
    "collapsed": true
   },
   "outputs": [],
   "source": [
    "import time\n",
    "\n",
    "def make_time_hourly(time_string):\n",
    "    \"\"\"Create seconds since 1970 from date string.\"\"\"\n",
    "    time_format = '%Y-%m-%d %H:%M:%S'\n",
    "    return int(time.mktime(time.strptime(time_string, time_format)))"
   ]
  },
  {
   "cell_type": "code",
   "execution_count": 162,
   "metadata": {
    "collapsed": false
   },
   "outputs": [
    {
     "data": {
      "text/plain": [
       "1262300400"
      ]
     },
     "execution_count": 162,
     "metadata": {},
     "output_type": "execute_result"
    }
   ],
   "source": [
    "make_time_hourly(\"2010-01-01 00:00:00\")"
   ]
  },
  {
   "cell_type": "code",
   "execution_count": 163,
   "metadata": {
    "collapsed": false
   },
   "outputs": [
    {
     "data": {
      "text/plain": [
       "1262304000"
      ]
     },
     "execution_count": 163,
     "metadata": {},
     "output_type": "execute_result"
    }
   ],
   "source": [
    "make_time_hourly(\"2010-01-01 01:00:00\")"
   ]
  },
  {
   "cell_type": "code",
   "execution_count": 165,
   "metadata": {
    "collapsed": false
   },
   "outputs": [
    {
     "data": {
      "text/plain": [
       "2.3452777777777776"
      ]
     },
     "execution_count": 165,
     "metadata": {},
     "output_type": "execute_result"
    }
   ],
   "source": [
    "8443 / 3600"
   ]
  },
  {
   "cell_type": "code",
   "execution_count": 167,
   "metadata": {
    "collapsed": false
   },
   "outputs": [
    {
     "data": {
      "text/plain": [
       "20.712"
      ]
     },
     "execution_count": 167,
     "metadata": {},
     "output_type": "execute_result"
    }
   ],
   "source": [
    "0.3452 * 60"
   ]
  },
  {
   "cell_type": "code",
   "execution_count": 168,
   "metadata": {
    "collapsed": false
   },
   "outputs": [
    {
     "data": {
      "text/plain": [
       "3.75"
      ]
     },
     "execution_count": 168,
     "metadata": {},
     "output_type": "execute_result"
    }
   ],
   "source": [
    "90 / 24"
   ]
  },
  {
   "cell_type": "code",
   "execution_count": 170,
   "metadata": {
    "collapsed": false
   },
   "outputs": [
    {
     "data": {
      "text/plain": [
       "13.333333333333334"
      ]
     },
     "execution_count": 170,
     "metadata": {},
     "output_type": "execute_result"
    }
   ],
   "source": [
    "800 / 60"
   ]
  },
  {
   "cell_type": "code",
   "execution_count": 171,
   "metadata": {
    "collapsed": false
   },
   "outputs": [
    {
     "data": {
      "text/plain": [
       "24.3925"
      ]
     },
     "execution_count": 171,
     "metadata": {},
     "output_type": "execute_result"
    }
   ],
   "source": [
    "1463.55 / 60"
   ]
  },
  {
   "cell_type": "code",
   "execution_count": 173,
   "metadata": {
    "collapsed": false
   },
   "outputs": [],
   "source": [
    "h5_file.create_table?"
   ]
  },
  {
   "cell_type": "code",
   "execution_count": 174,
   "metadata": {
    "collapsed": false
   },
   "outputs": [
    {
     "data": {
      "text/plain": [
       "20.65"
      ]
     },
     "execution_count": 174,
     "metadata": {},
     "output_type": "execute_result"
    }
   ],
   "source": [
    "1239 / 60"
   ]
  },
  {
   "cell_type": "code",
   "execution_count": 1,
   "metadata": {
    "collapsed": true
   },
   "outputs": [],
   "source": [
    "s = {1, 2, 3}"
   ]
  },
  {
   "cell_type": "code",
   "execution_count": 2,
   "metadata": {
    "collapsed": false
   },
   "outputs": [
    {
     "data": {
      "text/plain": [
       "1"
      ]
     },
     "execution_count": 2,
     "metadata": {},
     "output_type": "execute_result"
    }
   ],
   "source": [
    "s.pop()"
   ]
  },
  {
   "cell_type": "code",
   "execution_count": 3,
   "metadata": {
    "collapsed": true
   },
   "outputs": [],
   "source": [
    "from pathlib import Path"
   ]
  },
  {
   "cell_type": "code",
   "execution_count": 4,
   "metadata": {
    "collapsed": true
   },
   "outputs": [],
   "source": [
    "p = Path('a/b')"
   ]
  },
  {
   "cell_type": "code",
   "execution_count": 5,
   "metadata": {
    "collapsed": false
   },
   "outputs": [
    {
     "data": {
      "text/plain": [
       "WindowsPath('a/b')"
      ]
     },
     "execution_count": 5,
     "metadata": {},
     "output_type": "execute_result"
    }
   ],
   "source": [
    "p"
   ]
  },
  {
   "cell_type": "code",
   "execution_count": 6,
   "metadata": {
    "collapsed": false
   },
   "outputs": [
    {
     "data": {
      "text/plain": [
       "WindowsPath('a/b/x')"
      ]
     },
     "execution_count": 6,
     "metadata": {},
     "output_type": "execute_result"
    }
   ],
   "source": [
    "p / 'x'"
   ]
  },
  {
   "cell_type": "code",
   "execution_count": 22,
   "metadata": {
    "collapsed": false
   },
   "outputs": [
    {
     "data": {
      "text/plain": [
       "4.277777777777778"
      ]
     },
     "execution_count": 22,
     "metadata": {},
     "output_type": "execute_result"
    }
   ],
   "source": [
    "15400 / 60 / 60"
   ]
  },
  {
   "cell_type": "code",
   "execution_count": 24,
   "metadata": {
    "collapsed": false
   },
   "outputs": [
    {
     "data": {
      "text/plain": [
       "'C:\\\\Daten\\\\Mike\\\\projekte\\\\2015_006_crosswater\\\\Daten'"
      ]
     },
     "execution_count": 24,
     "metadata": {},
     "output_type": "execute_result"
    }
   ],
   "source": [
    "pwd"
   ]
  },
  {
   "cell_type": "code",
   "execution_count": 27,
   "metadata": {
    "collapsed": false
   },
   "outputs": [],
   "source": [
    "import pandas as pd"
   ]
  },
  {
   "cell_type": "code",
   "execution_count": 40,
   "metadata": {
    "collapsed": false
   },
   "outputs": [],
   "source": [
    "out = pd.read_csv('test/out/out_335651.txt', delim_whitespace=True,usecols=['Q', 'CalcC_atrazin_335651'])"
   ]
  },
  {
   "cell_type": "code",
   "execution_count": 42,
   "metadata": {
    "collapsed": false
   },
   "outputs": [
    {
     "data": {
      "text/html": [
       "<div>\n",
       "<table border=\"1\" class=\"dataframe\">\n",
       "  <thead>\n",
       "    <tr style=\"text-align: right;\">\n",
       "      <th></th>\n",
       "      <th>Q</th>\n",
       "      <th>CalcC_atrazin_335651</th>\n",
       "    </tr>\n",
       "  </thead>\n",
       "  <tbody>\n",
       "    <tr>\n",
       "      <th>0</th>\n",
       "      <td>0.02</td>\n",
       "      <td>0.0000</td>\n",
       "    </tr>\n",
       "    <tr>\n",
       "      <th>1</th>\n",
       "      <td>0.02</td>\n",
       "      <td>11.7932</td>\n",
       "    </tr>\n",
       "    <tr>\n",
       "      <th>2</th>\n",
       "      <td>0.02</td>\n",
       "      <td>11.7932</td>\n",
       "    </tr>\n",
       "    <tr>\n",
       "      <th>3</th>\n",
       "      <td>0.02</td>\n",
       "      <td>11.7932</td>\n",
       "    </tr>\n",
       "    <tr>\n",
       "      <th>4</th>\n",
       "      <td>0.02</td>\n",
       "      <td>11.7932</td>\n",
       "    </tr>\n",
       "  </tbody>\n",
       "</table>\n",
       "</div>"
      ],
      "text/plain": [
       "      Q  CalcC_atrazin_335651\n",
       "0  0.02                0.0000\n",
       "1  0.02               11.7932\n",
       "2  0.02               11.7932\n",
       "3  0.02               11.7932\n",
       "4  0.02               11.7932"
      ]
     },
     "execution_count": 42,
     "metadata": {},
     "output_type": "execute_result"
    }
   ],
   "source": [
    "out.head()"
   ]
  },
  {
   "cell_type": "code",
   "execution_count": 48,
   "metadata": {
    "collapsed": false
   },
   "outputs": [],
   "source": [
    "index = out.columns"
   ]
  },
  {
   "cell_type": "code",
   "execution_count": 49,
   "metadata": {
    "collapsed": false
   },
   "outputs": [
    {
     "data": {
      "text/plain": [
       "Index(['Q', 'CalcC_atrazin_335651'], dtype='object')"
      ]
     },
     "execution_count": 49,
     "metadata": {},
     "output_type": "execute_result"
    }
   ],
   "source": [
    "index"
   ]
  },
  {
   "cell_type": "code",
   "execution_count": 51,
   "metadata": {
    "collapsed": false
   },
   "outputs": [
    {
     "data": {
      "text/plain": [
       "Index(['Q', 'CalcC_atrazin_335651'], dtype='object', name=['Q', 'C'])"
      ]
     },
     "execution_count": 51,
     "metadata": {},
     "output_type": "execute_result"
    }
   ],
   "source": [
    "index.rename(['Q', 'C'])"
   ]
  },
  {
   "cell_type": "code",
   "execution_count": 53,
   "metadata": {
    "collapsed": false
   },
   "outputs": [],
   "source": [
    "out.columns  = pd.Index(['Q', 'C'])"
   ]
  },
  {
   "cell_type": "code",
   "execution_count": 55,
   "metadata": {
    "collapsed": false
   },
   "outputs": [
    {
     "ename": "AttributeError",
     "evalue": "'DataFrame' object has no attribute 'ghead'",
     "output_type": "error",
     "traceback": [
      "\u001b[1;31m---------------------------------------------------------------------------\u001b[0m",
      "\u001b[1;31mAttributeError\u001b[0m                            Traceback (most recent call last)",
      "\u001b[1;32m<ipython-input-55-02723b71ac23>\u001b[0m in \u001b[0;36m<module>\u001b[1;34m()\u001b[0m\n\u001b[1;32m----> 1\u001b[1;33m \u001b[0mout\u001b[0m\u001b[1;33m.\u001b[0m\u001b[0mghead\u001b[0m\u001b[1;33m(\u001b[0m\u001b[1;33m)\u001b[0m\u001b[1;33m\u001b[0m\u001b[0m\n\u001b[0m",
      "\u001b[1;32mC:\\Users\\Mike\\Miniconda3\\envs\\crosswater\\lib\\site-packages\\pandas\\core\\generic.py\u001b[0m in \u001b[0;36m__getattr__\u001b[1;34m(self, name)\u001b[0m\n\u001b[0;32m   2148\u001b[0m                 \u001b[1;32mreturn\u001b[0m \u001b[0mself\u001b[0m\u001b[1;33m[\u001b[0m\u001b[0mname\u001b[0m\u001b[1;33m]\u001b[0m\u001b[1;33m\u001b[0m\u001b[0m\n\u001b[0;32m   2149\u001b[0m             raise AttributeError(\"'%s' object has no attribute '%s'\" %\n\u001b[1;32m-> 2150\u001b[1;33m                                  (type(self).__name__, name))\n\u001b[0m\u001b[0;32m   2151\u001b[0m \u001b[1;33m\u001b[0m\u001b[0m\n\u001b[0;32m   2152\u001b[0m     \u001b[1;32mdef\u001b[0m \u001b[0m__setattr__\u001b[0m\u001b[1;33m(\u001b[0m\u001b[0mself\u001b[0m\u001b[1;33m,\u001b[0m \u001b[0mname\u001b[0m\u001b[1;33m,\u001b[0m \u001b[0mvalue\u001b[0m\u001b[1;33m)\u001b[0m\u001b[1;33m:\u001b[0m\u001b[1;33m\u001b[0m\u001b[0m\n",
      "\u001b[1;31mAttributeError\u001b[0m: 'DataFrame' object has no attribute 'ghead'"
     ]
    }
   ],
   "source": [
    "out.ghead()"
   ]
  },
  {
   "cell_type": "code",
   "execution_count": 56,
   "metadata": {
    "collapsed": false
   },
   "outputs": [
    {
     "data": {
      "text/plain": [
       "File(filename=test.h5, title='', mode='w', root_uep='/', filters=Filters(complevel=0, shuffle=False, fletcher32=False, least_significant_digit=None))\n",
       "/ (RootGroup) ''\n",
       "/g1 (Group) ''\n",
       "/g1/t1 (Table(100,)) ''\n",
       "  description := {\n",
       "  \"name\": StringCol(itemsize=10, shape=(), dflt=b'', pos=0)}\n",
       "  byteorder := 'little'\n",
       "  chunkshape := (6553,)"
      ]
     },
     "execution_count": 56,
     "metadata": {},
     "output_type": "execute_result"
    }
   ],
   "source": [
    "h5_file"
   ]
  },
  {
   "cell_type": "code",
   "execution_count": 62,
   "metadata": {
    "collapsed": true
   },
   "outputs": [],
   "source": [
    "h5_file.create_table?"
   ]
  },
  {
   "cell_type": "code",
   "execution_count": 61,
   "metadata": {
    "collapsed": false
   },
   "outputs": [
    {
     "data": {
      "text/plain": [
       "tables.description.Col._subclass_from_prefix.<locals>.NewCol"
      ]
     },
     "execution_count": 61,
     "metadata": {},
     "output_type": "execute_result"
    }
   ],
   "source": [
    "tables.Time64Col"
   ]
  },
  {
   "cell_type": "code",
   "execution_count": 63,
   "metadata": {
    "collapsed": false
   },
   "outputs": [
    {
     "data": {
      "text/plain": [
       "66.66666666666667"
      ]
     },
     "execution_count": 63,
     "metadata": {},
     "output_type": "execute_result"
    }
   ],
   "source": [
    "4000/60"
   ]
  },
  {
   "cell_type": "code",
   "execution_count": 64,
   "metadata": {
    "collapsed": false
   },
   "outputs": [
    {
     "data": {
      "text/plain": [
       "136831200"
      ]
     },
     "execution_count": 64,
     "metadata": {},
     "output_type": "execute_result"
    }
   ],
   "source": [
    "15620 * 8760"
   ]
  },
  {
   "cell_type": "code",
   "execution_count": 65,
   "metadata": {
    "collapsed": false
   },
   "outputs": [
    {
     "data": {
      "text/plain": [
       "3.61"
      ]
     },
     "execution_count": 65,
     "metadata": {},
     "output_type": "execute_result"
    }
   ],
   "source": [
    "3610000 /1e6"
   ]
  },
  {
   "cell_type": "code",
   "execution_count": 66,
   "metadata": {
    "collapsed": false
   },
   "outputs": [
    {
     "data": {
      "text/plain": [
       "'C:\\\\Daten\\\\Mike\\\\projekte\\\\2015_006_crosswater\\\\Daten'"
      ]
     },
     "execution_count": 66,
     "metadata": {},
     "output_type": "execute_result"
    }
   ],
   "source": [
    "pwd"
   ]
  },
  {
   "cell_type": "code",
   "execution_count": 67,
   "metadata": {
    "collapsed": false
   },
   "outputs": [
    {
     "name": "stdout",
     "output_type": "stream",
     "text": [
      "C:\\Daten\\Mike\\projekte\\2015_006_crosswater\n"
     ]
    }
   ],
   "source": [
    "cd .."
   ]
  },
  {
   "cell_type": "code",
   "execution_count": 69,
   "metadata": {
    "collapsed": false
   },
   "outputs": [
    {
     "name": "stdout",
     "output_type": "stream",
     "text": [
      "C:\\Daten\\Mike\\projekte\\2015_006_crosswater\\rhine_model\\input\n"
     ]
    }
   ],
   "source": [
    "cd rhine_model/input/"
   ]
  },
  {
   "cell_type": "code",
   "execution_count": 71,
   "metadata": {
    "collapsed": false
   },
   "outputs": [
    {
     "name": "stdout",
     "output_type": "stream",
     "text": [
      " Volume in Laufwerk C: hat keine Bezeichnung.\n",
      " Volumeseriennummer: 62CF-80D5\n",
      "\n",
      " Verzeichnis von C:\\Daten\\Mike\\projekte\\2015_006_crosswater\\rhine_model\\input\n",
      "\n",
      "15.08.2015  14:46    <DIR>          .\n",
      "15.08.2015  14:46    <DIR>          ..\n",
      "15.08.2015  14:23     1.656.663.388 catchment_input.h5\n",
      "15.08.2015  14:29         1.061.489 catchment_input_small.h5\n",
      "15.08.2015  14:29         1.061.489 play.h5\n",
      "               3 Datei(en),  1.658.786.366 Bytes\n",
      "               2 Verzeichnis(se), 485.543.616.512 Bytes frei\n"
     ]
    }
   ],
   "source": [
    "ls"
   ]
  },
  {
   "cell_type": "code",
   "execution_count": 72,
   "metadata": {
    "collapsed": true
   },
   "outputs": [],
   "source": [
    "h5_file = tables.open_file('play.h5', mode='a')"
   ]
  },
  {
   "cell_type": "code",
   "execution_count": 74,
   "metadata": {
    "collapsed": false
   },
   "outputs": [],
   "source": [
    "h5_file.close()"
   ]
  },
  {
   "cell_type": "code",
   "execution_count": 81,
   "metadata": {
    "collapsed": false
   },
   "outputs": [
    {
     "name": "stdout",
     "output_type": "stream",
     "text": [
      "C:\\Daten\\Mike\\projekte\\2015_006_crosswater\\rhine_model\n"
     ]
    }
   ],
   "source": [
    "cd .."
   ]
  },
  {
   "cell_type": "code",
   "execution_count": 83,
   "metadata": {
    "collapsed": false
   },
   "outputs": [
    {
     "name": "stdout",
     "output_type": "stream",
     "text": [
      "C:\\Daten\\Mike\\projekte\\2015_006_crosswater\\rhine_model\\output\n"
     ]
    }
   ],
   "source": [
    "cd output/"
   ]
  },
  {
   "cell_type": "code",
   "execution_count": 84,
   "metadata": {
    "collapsed": false
   },
   "outputs": [
    {
     "name": "stdout",
     "output_type": "stream",
     "text": [
      " Volume in Laufwerk C: hat keine Bezeichnung.\n",
      " Volumeseriennummer: 62CF-80D5\n",
      "\n",
      " Verzeichnis von C:\\Daten\\Mike\\projekte\\2015_006_crosswater\\rhine_model\\output\n",
      "\n",
      "15.08.2015  08:45    <DIR>          .\n",
      "15.08.2015  08:45    <DIR>          ..\n",
      "15.08.2015  10:17       503.972.378 catchment_output.h5\n",
      "15.08.2015  14:48           280.266 catchment_output_small.h5\n",
      "15.08.2015  08:46         3.729.819 catchment_output2.h5\n",
      "               3 Datei(en),    507.982.463 Bytes\n",
      "               2 Verzeichnis(se), 485.539.012.608 Bytes frei\n"
     ]
    }
   ],
   "source": [
    "ls"
   ]
  },
  {
   "cell_type": "code",
   "execution_count": 141,
   "metadata": {
    "collapsed": true
   },
   "outputs": [],
   "source": [
    "h5_file = tables.open_file('catchment_output_small.h5', mode='a')"
   ]
  },
  {
   "cell_type": "code",
   "execution_count": 86,
   "metadata": {
    "collapsed": false
   },
   "outputs": [
    {
     "data": {
      "text/plain": [
       "File(filename=catchment_output_small.h5, title='Crosswater results', mode='a', root_uep='/', filters=Filters(complevel=0, shuffle=False, fletcher32=False, least_significant_digit=None))\n",
       "/ (RootGroup) 'Crosswater results'\n",
       "/output (Table(78840,), shuffle, zlib(5)) ''\n",
       "  description := {\n",
       "  \"catchment\": StringCol(itemsize=10, shape=(), dflt=b'', pos=0),\n",
       "  \"concentration\": Float64Col(shape=(), dflt=0.0, pos=1),\n",
       "  \"discharge\": Float64Col(shape=(), dflt=0.0, pos=2),\n",
       "  \"timestep\": Int32Col(shape=(), dflt=0, pos=3)}\n",
       "  byteorder := 'little'\n",
       "  chunkshape := (2184,)"
      ]
     },
     "execution_count": 86,
     "metadata": {},
     "output_type": "execute_result"
    }
   ],
   "source": [
    "h5_file"
   ]
  },
  {
   "cell_type": "code",
   "execution_count": 142,
   "metadata": {
    "collapsed": false
   },
   "outputs": [],
   "source": [
    "table = h5_file.get_node('/output')"
   ]
  },
  {
   "cell_type": "code",
   "execution_count": 92,
   "metadata": {
    "collapsed": false
   },
   "outputs": [
    {
     "name": "stdout",
     "output_type": "stream",
     "text": [
      "100 loops, best of 3: 12.2 ms per loop\n"
     ]
    }
   ],
   "source": [
    "%%timeit\n",
    "res = [row[:] for row in table.where('timestep == 1')]"
   ]
  },
  {
   "cell_type": "code",
   "execution_count": 90,
   "metadata": {
    "collapsed": false
   },
   "outputs": [
    {
     "data": {
      "text/plain": [
       "[(b'335651', 0.0, 0.02, 1),\n",
       " (b'335652', 0.0, 0.09, 1),\n",
       " (b'335654', 0.0, 9.0, 1),\n",
       " (b'335656', 0.0, 0.03, 1),\n",
       " (b'346350', 0.0, 0.22, 1),\n",
       " (b'346351', 0.0, 0.21, 1),\n",
       " (b'346352', 0.0, 0.08, 1),\n",
       " (b'346358', 0.0, 0.32, 1),\n",
       " (b'346359', 0.0, 0.4, 1)]"
      ]
     },
     "execution_count": 90,
     "metadata": {},
     "output_type": "execute_result"
    }
   ],
   "source": [
    "res"
   ]
  },
  {
   "cell_type": "code",
   "execution_count": 91,
   "metadata": {
    "collapsed": false
   },
   "outputs": [
    {
     "data": {
      "text/plain": [
       "frozenset()"
      ]
     },
     "execution_count": 91,
     "metadata": {},
     "output_type": "execute_result"
    }
   ],
   "source": [
    "table.will_query_use_indexing('timestep == 1')"
   ]
  },
  {
   "cell_type": "code",
   "execution_count": 93,
   "metadata": {
    "collapsed": true
   },
   "outputs": [],
   "source": [
    "indexrows = table.cols.timestep.create_index()"
   ]
  },
  {
   "cell_type": "code",
   "execution_count": 94,
   "metadata": {
    "collapsed": false
   },
   "outputs": [
    {
     "data": {
      "text/plain": [
       "78840"
      ]
     },
     "execution_count": 94,
     "metadata": {},
     "output_type": "execute_result"
    }
   ],
   "source": [
    "indexrows"
   ]
  },
  {
   "cell_type": "code",
   "execution_count": 95,
   "metadata": {
    "collapsed": false
   },
   "outputs": [
    {
     "data": {
      "text/plain": [
       "frozenset({'timestep'})"
      ]
     },
     "execution_count": 95,
     "metadata": {},
     "output_type": "execute_result"
    }
   ],
   "source": [
    "table.will_query_use_indexing('timestep == 1')"
   ]
  },
  {
   "cell_type": "code",
   "execution_count": 96,
   "metadata": {
    "collapsed": false
   },
   "outputs": [
    {
     "name": "stdout",
     "output_type": "stream",
     "text": [
      "The slowest run took 325.80 times longer than the fastest. This could mean that an intermediate result is being cached \n",
      "1000 loops, best of 3: 253 µs per loop\n"
     ]
    }
   ],
   "source": [
    "%%timeit\n",
    "res = [row[:] for row in table.where('timestep == 1')]"
   ]
  },
  {
   "cell_type": "code",
   "execution_count": 98,
   "metadata": {
    "collapsed": false
   },
   "outputs": [
    {
     "data": {
      "text/plain": [
       "[(b'335651', 0.0, 0.02),\n",
       " (b'335652', 0.0, 0.09),\n",
       " (b'335654', 0.0, 9.0),\n",
       " (b'335656', 0.0, 0.03),\n",
       " (b'346350', 0.0, 0.22),\n",
       " (b'346351', 0.0, 0.21),\n",
       " (b'346352', 0.0, 0.08),\n",
       " (b'346358', 0.0, 0.32),\n",
       " (b'346359', 0.0, 0.4)]"
      ]
     },
     "execution_count": 98,
     "metadata": {},
     "output_type": "execute_result"
    }
   ],
   "source": [
    "[row[:-1] for row in table.where('timestep == 1')]"
   ]
  },
  {
   "cell_type": "code",
   "execution_count": 99,
   "metadata": {
    "collapsed": false
   },
   "outputs": [
    {
     "data": {
      "text/plain": [
       "['catchment', 'concentration', 'discharge', 'timestep']"
      ]
     },
     "execution_count": 99,
     "metadata": {},
     "output_type": "execute_result"
    }
   ],
   "source": [
    "table.colnames"
   ]
  },
  {
   "cell_type": "code",
   "execution_count": 103,
   "metadata": {
    "collapsed": false
   },
   "outputs": [
    {
     "ename": "TypeError",
     "evalue": "slice indices must be integers or None or have an __index__ method",
     "output_type": "error",
     "traceback": [
      "\u001b[1;31m---------------------------------------------------------------------------\u001b[0m",
      "\u001b[1;31mTypeError\u001b[0m                                 Traceback (most recent call last)",
      "\u001b[1;32mtables\\tableextension.pyx\u001b[0m in \u001b[0;36mtables.tableextension.Row.__getitem__ (tables\\tableextension.c:15526)\u001b[1;34m()\u001b[0m\n",
      "\u001b[1;31mTypeError\u001b[0m: unhashable type: 'slice'",
      "\nDuring handling of the above exception, another exception occurred:\n",
      "\u001b[1;31mTypeError\u001b[0m                                 Traceback (most recent call last)",
      "\u001b[1;32mtables\\tableextension.pyx\u001b[0m in \u001b[0;36mtables.tableextension.Row.__getitem__ (tables\\tableextension.c:15575)\u001b[1;34m()\u001b[0m\n",
      "\u001b[1;32mtables\\tableextension.pyx\u001b[0m in \u001b[0;36mtables.tableextension.get_nested_field_cache (tables\\tableextension.c:2280)\u001b[1;34m()\u001b[0m\n",
      "\u001b[1;31mTypeError\u001b[0m: unhashable type: 'slice'",
      "\nDuring handling of the above exception, another exception occurred:\n",
      "\u001b[1;31mTypeError\u001b[0m                                 Traceback (most recent call last)",
      "\u001b[1;32m<ipython-input-103-e8b5c5b76e63>\u001b[0m in \u001b[0;36m<module>\u001b[1;34m()\u001b[0m\n\u001b[1;32m----> 1\u001b[1;33m \u001b[1;33m[\u001b[0m\u001b[0mrow\u001b[0m\u001b[1;33m[\u001b[0m\u001b[1;34m'catchment'\u001b[0m\u001b[1;33m:\u001b[0m\u001b[1;34m'concentration'\u001b[0m\u001b[1;33m]\u001b[0m \u001b[1;32mfor\u001b[0m \u001b[0mrow\u001b[0m \u001b[1;32min\u001b[0m \u001b[0mtable\u001b[0m\u001b[1;33m.\u001b[0m\u001b[0mwhere\u001b[0m\u001b[1;33m(\u001b[0m\u001b[1;34m'timestep == 1'\u001b[0m\u001b[1;33m)\u001b[0m\u001b[1;33m]\u001b[0m\u001b[1;33m\u001b[0m\u001b[0m\n\u001b[0m",
      "\u001b[1;32m<ipython-input-103-e8b5c5b76e63>\u001b[0m in \u001b[0;36m<listcomp>\u001b[1;34m(.0)\u001b[0m\n\u001b[1;32m----> 1\u001b[1;33m \u001b[1;33m[\u001b[0m\u001b[0mrow\u001b[0m\u001b[1;33m[\u001b[0m\u001b[1;34m'catchment'\u001b[0m\u001b[1;33m:\u001b[0m\u001b[1;34m'concentration'\u001b[0m\u001b[1;33m]\u001b[0m \u001b[1;32mfor\u001b[0m \u001b[0mrow\u001b[0m \u001b[1;32min\u001b[0m \u001b[0mtable\u001b[0m\u001b[1;33m.\u001b[0m\u001b[0mwhere\u001b[0m\u001b[1;33m(\u001b[0m\u001b[1;34m'timestep == 1'\u001b[0m\u001b[1;33m)\u001b[0m\u001b[1;33m]\u001b[0m\u001b[1;33m\u001b[0m\u001b[0m\n\u001b[0m",
      "\u001b[1;32mtables\\tableextension.pyx\u001b[0m in \u001b[0;36mtables.tableextension.Row.__getitem__ (tables\\tableextension.c:15734)\u001b[1;34m()\u001b[0m\n",
      "\u001b[1;31mTypeError\u001b[0m: slice indices must be integers or None or have an __index__ method"
     ]
    }
   ],
   "source": [
    "[row['catchment':'concentration'] for row in table.where('timestep == 1')]"
   ]
  },
  {
   "cell_type": "code",
   "execution_count": 104,
   "metadata": {
    "collapsed": true
   },
   "outputs": [],
   "source": [
    "test = tables.open_file('out.h5', 'w')"
   ]
  },
  {
   "cell_type": "code",
   "execution_count": 105,
   "metadata": {
    "collapsed": false
   },
   "outputs": [
    {
     "data": {
      "text/plain": [
       "File(filename=out.h5, title='', mode='w', root_uep='/', filters=Filters(complevel=0, shuffle=False, fletcher32=False, least_significant_digit=None))\n",
       "/ (RootGroup) ''"
      ]
     },
     "execution_count": 105,
     "metadata": {},
     "output_type": "execute_result"
    }
   ],
   "source": [
    "test"
   ]
  },
  {
   "cell_type": "code",
   "execution_count": 106,
   "metadata": {
    "collapsed": true
   },
   "outputs": [],
   "source": [
    "group = test.create_group('/', 'step_1')"
   ]
  },
  {
   "cell_type": "code",
   "execution_count": 107,
   "metadata": {
    "collapsed": true
   },
   "outputs": [],
   "source": [
    "out_table = test.create_table(group, 'values', res)"
   ]
  },
  {
   "cell_type": "code",
   "execution_count": 109,
   "metadata": {
    "collapsed": false
   },
   "outputs": [],
   "source": [
    "out_table.flush()"
   ]
  },
  {
   "cell_type": "code",
   "execution_count": 110,
   "metadata": {
    "collapsed": false
   },
   "outputs": [
    {
     "data": {
      "text/plain": [
       "/step_1/values (Table(9,)) ''\n",
       "  description := {\n",
       "  \"f0\": StringCol(itemsize=6, shape=(), dflt=b'', pos=0),\n",
       "  \"f1\": Float64Col(shape=(), dflt=0.0, pos=1),\n",
       "  \"f2\": Float64Col(shape=(), dflt=0.0, pos=2),\n",
       "  \"f3\": Int32Col(shape=(), dflt=0, pos=3)}\n",
       "  byteorder := 'little'\n",
       "  chunkshape := (2520,)"
      ]
     },
     "execution_count": 110,
     "metadata": {},
     "output_type": "execute_result"
    }
   ],
   "source": [
    "out_table"
   ]
  },
  {
   "cell_type": "code",
   "execution_count": 111,
   "metadata": {
    "collapsed": false
   },
   "outputs": [
    {
     "data": {
      "text/plain": [
       "/output (Table(78840,), shuffle, zlib(5)) ''\n",
       "  description := {\n",
       "  \"catchment\": StringCol(itemsize=10, shape=(), dflt=b'', pos=0),\n",
       "  \"concentration\": Float64Col(shape=(), dflt=0.0, pos=1),\n",
       "  \"discharge\": Float64Col(shape=(), dflt=0.0, pos=2),\n",
       "  \"timestep\": Int32Col(shape=(), dflt=0, pos=3)}\n",
       "  byteorder := 'little'\n",
       "  chunkshape := (2184,)\n",
       "  autoindex := True\n",
       "  colindexes := {\n",
       "    \"timestep\": Index(6, medium, shuffle, zlib(1)).is_csi=False}"
      ]
     },
     "execution_count": 111,
     "metadata": {},
     "output_type": "execute_result"
    }
   ],
   "source": [
    "table"
   ]
  },
  {
   "cell_type": "code",
   "execution_count": 112,
   "metadata": {
    "collapsed": true
   },
   "outputs": [],
   "source": [
    "test.create_table?"
   ]
  },
  {
   "cell_type": "code",
   "execution_count": 113,
   "metadata": {
    "collapsed": true
   },
   "outputs": [],
   "source": [
    "res = [row[:-1] for row in table.where('timestep == 1')]"
   ]
  },
  {
   "cell_type": "code",
   "execution_count": 114,
   "metadata": {
    "collapsed": false
   },
   "outputs": [
    {
     "data": {
      "text/plain": [
       "[(b'335651', 0.0, 0.02),\n",
       " (b'335652', 0.0, 0.09),\n",
       " (b'335654', 0.0, 9.0),\n",
       " (b'335656', 0.0, 0.03),\n",
       " (b'346350', 0.0, 0.22),\n",
       " (b'346351', 0.0, 0.21),\n",
       " (b'346352', 0.0, 0.08),\n",
       " (b'346358', 0.0, 0.32),\n",
       " (b'346359', 0.0, 0.4)]"
      ]
     },
     "execution_count": 114,
     "metadata": {},
     "output_type": "execute_result"
    }
   ],
   "source": [
    "res"
   ]
  },
  {
   "cell_type": "code",
   "execution_count": 116,
   "metadata": {
    "collapsed": false
   },
   "outputs": [
    {
     "name": "stdout",
     "output_type": "stream",
     "text": [
      "(b'335651', 0.0, 0.02, 1)\n",
      "(b'335652', 0.0, 0.09, 1)\n",
      "(b'335654', 0.0, 9.0, 1)\n",
      "(b'335656', 0.0, 0.03, 1)\n",
      "(b'346350', 0.0, 0.22, 1)\n",
      "(b'346351', 0.0, 0.21, 1)\n",
      "(b'346352', 0.0, 0.08, 1)\n",
      "(b'346358', 0.0, 0.32, 1)\n",
      "(b'346359', 0.0, 0.4, 1)\n"
     ]
    }
   ],
   "source": [
    "for row in out_table:\n",
    "    print(row.fetch_all_fields())"
   ]
  },
  {
   "cell_type": "code",
   "execution_count": 118,
   "metadata": {
    "collapsed": false
   },
   "outputs": [],
   "source": [
    "out_table.colnames = table.colnames"
   ]
  },
  {
   "cell_type": "code",
   "execution_count": 120,
   "metadata": {
    "collapsed": false
   },
   "outputs": [
    {
     "data": {
      "text/plain": [
       "<bound method Table.flush of /step_1/values (Table(9,)) ''\n",
       "  description := {\n",
       "  \"f0\": StringCol(itemsize=6, shape=(), dflt=b'', pos=0),\n",
       "  \"f1\": Float64Col(shape=(), dflt=0.0, pos=1),\n",
       "  \"f2\": Float64Col(shape=(), dflt=0.0, pos=2),\n",
       "  \"f3\": Int32Col(shape=(), dflt=0, pos=3)}\n",
       "  byteorder := 'little'\n",
       "  chunkshape := (2520,)>"
      ]
     },
     "execution_count": 120,
     "metadata": {},
     "output_type": "execute_result"
    }
   ],
   "source": [
    "out_table.flush"
   ]
  },
  {
   "cell_type": "code",
   "execution_count": 121,
   "metadata": {
    "collapsed": false
   },
   "outputs": [
    {
     "data": {
      "text/plain": [
       "/step_1/values (Table(9,)) ''\n",
       "  description := {\n",
       "  \"f0\": StringCol(itemsize=6, shape=(), dflt=b'', pos=0),\n",
       "  \"f1\": Float64Col(shape=(), dflt=0.0, pos=1),\n",
       "  \"f2\": Float64Col(shape=(), dflt=0.0, pos=2),\n",
       "  \"f3\": Int32Col(shape=(), dflt=0, pos=3)}\n",
       "  byteorder := 'little'\n",
       "  chunkshape := (2520,)"
      ]
     },
     "execution_count": 121,
     "metadata": {},
     "output_type": "execute_result"
    }
   ],
   "source": [
    "out_table"
   ]
  },
  {
   "cell_type": "code",
   "execution_count": 122,
   "metadata": {
    "collapsed": true
   },
   "outputs": [],
   "source": [
    "import numpy"
   ]
  },
  {
   "cell_type": "code",
   "execution_count": 123,
   "metadata": {
    "collapsed": false
   },
   "outputs": [
    {
     "data": {
      "text/plain": [
       "{\n",
       "  \"catchment\": StringCol(itemsize=10, shape=(), dflt=b'', pos=0),\n",
       "  \"concentration\": Float64Col(shape=(), dflt=0.0, pos=1),\n",
       "  \"discharge\": Float64Col(shape=(), dflt=0.0, pos=2),\n",
       "  \"timestep\": Int32Col(shape=(), dflt=0, pos=3)}"
      ]
     },
     "execution_count": 123,
     "metadata": {},
     "output_type": "execute_result"
    }
   ],
   "source": [
    "table.description"
   ]
  },
  {
   "cell_type": "code",
   "execution_count": 124,
   "metadata": {
    "collapsed": true
   },
   "outputs": [],
   "source": [
    " test.create_table?"
   ]
  },
  {
   "cell_type": "code",
   "execution_count": 125,
   "metadata": {
    "collapsed": false
   },
   "outputs": [
    {
     "data": {
      "text/plain": [
       "[(b'335651', 0.0, 0.02),\n",
       " (b'335652', 0.0, 0.09),\n",
       " (b'335654', 0.0, 9.0),\n",
       " (b'335656', 0.0, 0.03),\n",
       " (b'346350', 0.0, 0.22),\n",
       " (b'346351', 0.0, 0.21),\n",
       " (b'346352', 0.0, 0.08),\n",
       " (b'346358', 0.0, 0.32),\n",
       " (b'346359', 0.0, 0.4)]"
      ]
     },
     "execution_count": 125,
     "metadata": {},
     "output_type": "execute_result"
    }
   ],
   "source": [
    "res"
   ]
  },
  {
   "cell_type": "code",
   "execution_count": 128,
   "metadata": {
    "collapsed": true
   },
   "outputs": [],
   "source": [
    "desc = [('catchment', 'S10'), ('concentration', numpy.float64), ('discharge', numpy.float64)]"
   ]
  },
  {
   "cell_type": "code",
   "execution_count": 129,
   "metadata": {
    "collapsed": false
   },
   "outputs": [
    {
     "data": {
      "text/plain": [
       "array([(b'335651', 0.0, 0.02), (b'335652', 0.0, 0.09),\n",
       "       (b'335654', 0.0, 9.0), (b'335656', 0.0, 0.03),\n",
       "       (b'346350', 0.0, 0.22), (b'346351', 0.0, 0.21),\n",
       "       (b'346352', 0.0, 0.08), (b'346358', 0.0, 0.32),\n",
       "       (b'346359', 0.0, 0.4)], \n",
       "      dtype=[('catchment', 'S10'), ('concentration', '<f8'), ('discharge', '<f8')])"
      ]
     },
     "execution_count": 129,
     "metadata": {},
     "output_type": "execute_result"
    }
   ],
   "source": [
    "numpy.array(res, dtype=desc)"
   ]
  },
  {
   "cell_type": "code",
   "execution_count": 130,
   "metadata": {
    "collapsed": true
   },
   "outputs": [],
   "source": [
    "out_table = test.create_table(group, 'values2', numpy.array(res, dtype=desc))"
   ]
  },
  {
   "cell_type": "code",
   "execution_count": 131,
   "metadata": {
    "collapsed": true
   },
   "outputs": [],
   "source": [
    "out_table.flush()"
   ]
  },
  {
   "cell_type": "code",
   "execution_count": 132,
   "metadata": {
    "collapsed": false
   },
   "outputs": [
    {
     "data": {
      "text/plain": [
       "/step_1/values2 (Table(9,)) ''\n",
       "  description := {\n",
       "  \"catchment\": StringCol(itemsize=10, shape=(), dflt=b'', pos=0),\n",
       "  \"concentration\": Float64Col(shape=(), dflt=0.0, pos=1),\n",
       "  \"discharge\": Float64Col(shape=(), dflt=0.0, pos=2)}\n",
       "  byteorder := 'little'\n",
       "  chunkshape := (2520,)"
      ]
     },
     "execution_count": 132,
     "metadata": {},
     "output_type": "execute_result"
    }
   ],
   "source": [
    "out_table"
   ]
  },
  {
   "cell_type": "code",
   "execution_count": 133,
   "metadata": {
    "collapsed": true
   },
   "outputs": [],
   "source": [
    "test.close()"
   ]
  },
  {
   "cell_type": "code",
   "execution_count": null,
   "metadata": {
    "collapsed": true
   },
   "outputs": [],
   "source": [
    "h5_file.close()\n"
   ]
  },
  {
   "cell_type": "code",
   "execution_count": 140,
   "metadata": {
    "collapsed": false
   },
   "outputs": [
    {
     "data": {
      "text/plain": [
       "10.95"
      ]
     },
     "execution_count": 140,
     "metadata": {},
     "output_type": "execute_result"
    }
   ],
   "source": [
    "(8760 * 4.5) / 3600"
   ]
  },
  {
   "cell_type": "code",
   "execution_count": 139,
   "metadata": {
    "collapsed": false
   },
   "outputs": [
    {
     "data": {
      "text/plain": [
       "16.666666666666668"
      ]
     },
     "execution_count": 139,
     "metadata": {},
     "output_type": "execute_result"
    }
   ],
   "source": [
    "10 * 100 / 60"
   ]
  },
  {
   "cell_type": "code",
   "execution_count": 160,
   "metadata": {
    "collapsed": false
   },
   "outputs": [],
   "source": [
    "t = table.cols.timestep"
   ]
  },
  {
   "cell_type": "code",
   "execution_count": null,
   "metadata": {
    "collapsed": true
   },
   "outputs": [],
   "source": [
    "t.remove_index()"
   ]
  },
  {
   "cell_type": "code",
   "execution_count": 163,
   "metadata": {
    "collapsed": false
   },
   "outputs": [
    {
     "data": {
      "text/plain": [
       "78840"
      ]
     },
     "execution_count": 163,
     "metadata": {},
     "output_type": "execute_result"
    }
   ],
   "source": [
    "t.create_csindex()"
   ]
  },
  {
   "cell_type": "code",
   "execution_count": 166,
   "metadata": {
    "collapsed": false
   },
   "outputs": [],
   "source": [
    "s1 = table.read_sorted('timestep', start=0, stop=8760)"
   ]
  },
  {
   "cell_type": "code",
   "execution_count": 167,
   "metadata": {
    "collapsed": false
   },
   "outputs": [
    {
     "data": {
      "text/plain": [
       "array([(b'335651', 0.0, 0.02, 1), (b'346352', 0.0, 0.08, 1),\n",
       "       (b'335656', 0.0, 0.03, 1), ..., (b'346359', 11.7932, 0.19, 974),\n",
       "       (b'335656', 11.7932, 0.01, 974), (b'335651', 11.7932, 0.02, 974)], \n",
       "      dtype=[('catchment', 'S10'), ('concentration', '<f8'), ('discharge', '<f8'), ('timestep', '<i4')])"
      ]
     },
     "execution_count": 167,
     "metadata": {},
     "output_type": "execute_result"
    }
   ],
   "source": [
    "s1"
   ]
  },
  {
   "cell_type": "code",
   "execution_count": 170,
   "metadata": {
    "collapsed": false
   },
   "outputs": [],
   "source": [
    "s1 = table.read_sorted('timestep', start=0, stop=9)"
   ]
  },
  {
   "cell_type": "code",
   "execution_count": 174,
   "metadata": {
    "collapsed": false
   },
   "outputs": [
    {
     "data": {
      "text/plain": [
       "array([(b'335651', 0.0), (b'346352', 0.0), (b'335656', 0.0),\n",
       "       (b'346359', 0.0), (b'335652', 0.0), (b'346350', 0.0),\n",
       "       (b'335654', 0.0), (b'346358', 0.0), (b'346351', 0.0)], \n",
       "      dtype=[('catchment', 'S10'), ('concentration', '<f8')])"
      ]
     },
     "execution_count": 174,
     "metadata": {},
     "output_type": "execute_result"
    }
   ],
   "source": [
    "s1[['catchment', 'concentration']]"
   ]
  },
  {
   "cell_type": "code",
   "execution_count": 176,
   "metadata": {
    "collapsed": false
   },
   "outputs": [
    {
     "data": {
      "text/plain": [
       "9"
      ]
     },
     "execution_count": 176,
     "metadata": {},
     "output_type": "execute_result"
    }
   ],
   "source": [
    "len(set(table.cols.catchment))"
   ]
  },
  {
   "cell_type": "code",
   "execution_count": 177,
   "metadata": {
    "collapsed": true
   },
   "outputs": [],
   "source": [
    "ids = set()\n",
    "for id_ in table.cols.catchment:\n",
    "    ids.add(id_)"
   ]
  },
  {
   "cell_type": "code",
   "execution_count": 183,
   "metadata": {
    "collapsed": false
   },
   "outputs": [],
   "source": [
    "nids = len(ids)"
   ]
  },
  {
   "cell_type": "code",
   "execution_count": 179,
   "metadata": {
    "collapsed": true
   },
   "outputs": [],
   "source": [
    "total=365*24"
   ]
  },
  {
   "cell_type": "code",
   "execution_count": 184,
   "metadata": {
    "collapsed": false
   },
   "outputs": [
    {
     "data": {
      "text/plain": [
       "78840"
      ]
     },
     "execution_count": 184,
     "metadata": {},
     "output_type": "execute_result"
    }
   ],
   "source": [
    "total * nids"
   ]
  },
  {
   "cell_type": "code",
   "execution_count": 182,
   "metadata": {
    "collapsed": false
   },
   "outputs": [
    {
     "data": {
      "text/plain": [
       "8760.0"
      ]
     },
     "execution_count": 182,
     "metadata": {},
     "output_type": "execute_result"
    }
   ],
   "source": [
    "table.nrows / 9"
   ]
  },
  {
   "cell_type": "code",
   "execution_count": 187,
   "metadata": {
    "collapsed": false
   },
   "outputs": [
    {
     "data": {
      "text/plain": [
       "{1}"
      ]
     },
     "execution_count": 187,
     "metadata": {},
     "output_type": "execute_result"
    }
   ],
   "source": [
    "set(s1['timestep'])"
   ]
  },
  {
   "cell_type": "code",
   "execution_count": 188,
   "metadata": {
    "collapsed": false
   },
   "outputs": [
    {
     "data": {
      "text/plain": [
       "/output.cols.timestep (Column(78840,), int32, idx=Index(9, full, shuffle, zlib(1)).is_csi=True)"
      ]
     },
     "execution_count": 188,
     "metadata": {},
     "output_type": "execute_result"
    }
   ],
   "source": [
    "t"
   ]
  },
  {
   "cell_type": "code",
   "execution_count": 189,
   "metadata": {
    "collapsed": false
   },
   "outputs": [
    {
     "data": {
      "text/plain": [
       "True"
      ]
     },
     "execution_count": 189,
     "metadata": {},
     "output_type": "execute_result"
    }
   ],
   "source": [
    "t.is_indexed"
   ]
  },
  {
   "cell_type": "code",
   "execution_count": 191,
   "metadata": {
    "collapsed": false
   },
   "outputs": [],
   "source": [
    "t.is_indexed?"
   ]
  },
  {
   "cell_type": "code",
   "execution_count": 193,
   "metadata": {
    "collapsed": false
   },
   "outputs": [
    {
     "data": {
      "text/plain": [
       "True"
      ]
     },
     "execution_count": 193,
     "metadata": {},
     "output_type": "execute_result"
    }
   ],
   "source": [
    "t.index.is_csi"
   ]
  },
  {
   "cell_type": "code",
   "execution_count": 194,
   "metadata": {
    "collapsed": true
   },
   "outputs": [],
   "source": [
    "data = table.read_sorted('timestep') "
   ]
  },
  {
   "cell_type": "code",
   "execution_count": 195,
   "metadata": {
    "collapsed": false
   },
   "outputs": [
    {
     "data": {
      "text/plain": [
       "array([(b'335651', 0.0, 0.02, 1), (b'346352', 0.0, 0.08, 1),\n",
       "       (b'335656', 0.0, 0.03, 1), (b'346359', 0.0, 0.4, 1),\n",
       "       (b'335652', 0.0, 0.09, 1), (b'346350', 0.0, 0.22, 1),\n",
       "       (b'335654', 0.0, 9.0, 1), (b'346358', 0.0, 0.32, 1),\n",
       "       (b'346351', 0.0, 0.21, 1)], \n",
       "      dtype=[('catchment', 'S10'), ('concentration', '<f8'), ('discharge', '<f8'), ('timestep', '<i4')])"
      ]
     },
     "execution_count": 195,
     "metadata": {},
     "output_type": "execute_result"
    }
   ],
   "source": [
    "data[:9]"
   ]
  },
  {
   "cell_type": "code",
   "execution_count": 13,
   "metadata": {
    "collapsed": false
   },
   "outputs": [
    {
     "ename": "NameError",
     "evalue": "name 'data' is not defined",
     "output_type": "error",
     "traceback": [
      "\u001b[1;31m---------------------------------------------------------------------------\u001b[0m",
      "\u001b[1;31mNameError\u001b[0m                                 Traceback (most recent call last)",
      "\u001b[1;32m<ipython-input-13-5585a7124d04>\u001b[0m in \u001b[0;36m<module>\u001b[1;34m()\u001b[0m\n\u001b[1;32m----> 1\u001b[1;33m \u001b[0mdata\u001b[0m\u001b[1;33m[\u001b[0m\u001b[1;36m9\u001b[0m\u001b[1;33m:\u001b[0m\u001b[1;36m18\u001b[0m\u001b[1;33m]\u001b[0m\u001b[1;33m\u001b[0m\u001b[0m\n\u001b[0m",
      "\u001b[1;31mNameError\u001b[0m: name 'data' is not defined"
     ]
    }
   ],
   "source": [
    "data[9:18]"
   ]
  },
  {
   "cell_type": "code",
   "execution_count": 1,
   "metadata": {
    "collapsed": false
   },
   "outputs": [
    {
     "data": {
      "text/plain": [
       "1"
      ]
     },
     "execution_count": 1,
     "metadata": {},
     "output_type": "execute_result"
    }
   ],
   "source": [
    " 1% 2"
   ]
  },
  {
   "cell_type": "code",
   "execution_count": 2,
   "metadata": {
    "collapsed": false
   },
   "outputs": [
    {
     "data": {
      "text/plain": [
       "1"
      ]
     },
     "execution_count": 2,
     "metadata": {},
     "output_type": "execute_result"
    }
   ],
   "source": [
    "1 % 2"
   ]
  },
  {
   "cell_type": "code",
   "execution_count": 3,
   "metadata": {
    "collapsed": false
   },
   "outputs": [
    {
     "data": {
      "text/plain": [
       "0"
      ]
     },
     "execution_count": 3,
     "metadata": {},
     "output_type": "execute_result"
    }
   ],
   "source": [
    "0% 2"
   ]
  },
  {
   "cell_type": "code",
   "execution_count": 10,
   "metadata": {
    "collapsed": false
   },
   "outputs": [
    {
     "data": {
      "text/plain": [
       "4.177093505859375"
      ]
     },
     "execution_count": 10,
     "metadata": {},
     "output_type": "execute_result"
    }
   ],
   "source": [
    "4 * 8 * 16000 * 8760 / (1024 **3)"
   ]
  },
  {
   "cell_type": "code",
   "execution_count": 6,
   "metadata": {
    "collapsed": false
   },
   "outputs": [
    {
     "data": {
      "text/plain": [
       "262144"
      ]
     },
     "execution_count": 6,
     "metadata": {},
     "output_type": "execute_result"
    }
   ],
   "source": [
    "8 **6"
   ]
  },
  {
   "cell_type": "code",
   "execution_count": 9,
   "metadata": {
    "collapsed": false
   },
   "outputs": [
    {
     "data": {
      "text/plain": [
       "2048"
      ]
     },
     "execution_count": 9,
     "metadata": {},
     "output_type": "execute_result"
    }
   ],
   "source": [
    "2 ** 11"
   ]
  },
  {
   "cell_type": "code",
   "execution_count": 12,
   "metadata": {
    "collapsed": false
   },
   "outputs": [
    {
     "data": {
      "text/plain": [
       "21.9"
      ]
     },
     "execution_count": 12,
     "metadata": {},
     "output_type": "execute_result"
    }
   ],
   "source": [
    "15 / 100 * 8760 / 60"
   ]
  },
  {
   "cell_type": "code",
   "execution_count": 1,
   "metadata": {
    "collapsed": true
   },
   "outputs": [],
   "source": [
    "import tables"
   ]
  },
  {
   "cell_type": "code",
   "execution_count": 2,
   "metadata": {
    "collapsed": false
   },
   "outputs": [],
   "source": [
    "h5_file = tables.open_file(r'c:\\Daten\\Mike\\projekte\\2015_006_crosswater\\rhine_model\\output\\catchment_output_small_2.h5', mode='r')"
   ]
  },
  {
   "cell_type": "code",
   "execution_count": 3,
   "metadata": {
    "collapsed": false
   },
   "outputs": [],
   "source": [
    "table = h5_file.get_node('/output')"
   ]
  },
  {
   "cell_type": "code",
   "execution_count": 4,
   "metadata": {
    "collapsed": true
   },
   "outputs": [],
   "source": [
    "data = table.read_sorted('timestep')"
   ]
  },
  {
   "cell_type": "code",
   "execution_count": 7,
   "metadata": {
    "collapsed": false
   },
   "outputs": [],
   "source": [
    "end = len(data)"
   ]
  },
  {
   "cell_type": "code",
   "execution_count": 8,
   "metadata": {
    "collapsed": true
   },
   "outputs": [],
   "source": [
    "data = table.read_sorted('timestep', start=end-10, stop=end+50)"
   ]
  },
  {
   "cell_type": "code",
   "execution_count": 9,
   "metadata": {
    "collapsed": false
   },
   "outputs": [
    {
     "data": {
      "text/plain": [
       "60"
      ]
     },
     "execution_count": 9,
     "metadata": {},
     "output_type": "execute_result"
    }
   ],
   "source": [
    "len(data)"
   ]
  },
  {
   "cell_type": "code",
   "execution_count": 10,
   "metadata": {
    "collapsed": false
   },
   "outputs": [
    {
     "data": {
      "text/plain": [
       "array([(b'335654', 11.7932, 5.43, 8759),\n",
       "       (b'346358', 12.088033, 0.19, 8760),\n",
       "       (b'346350', 12.825206, 0.14, 8760),\n",
       "       (b'335654', 11.7932, 5.43, 8760),\n",
       "       (b'346351', 12.478679099999999, 0.13, 8760),\n",
       "       (b'335656', 11.827771, 0.03, 8760),\n",
       "       (b'346352', 11.7932, 0.06, 8760),\n",
       "       (b'335651', 11.8582407, 0.03, 8760),\n",
       "       (b'335652', 11.8247245, 0.15, 8760),\n",
       "       (b'346359', 12.167196, 0.25, 8760), (b'335651', 0.0, 0.02, 1),\n",
       "       (b'335651', 0.0, 0.02, 1), (b'335651', 0.0, 0.02, 1),\n",
       "       (b'335651', 0.0, 0.02, 1), (b'335651', 0.0, 0.02, 1),\n",
       "       (b'335651', 0.0, 0.02, 1), (b'335651', 0.0, 0.02, 1),\n",
       "       (b'335651', 0.0, 0.02, 1), (b'335651', 0.0, 0.02, 1),\n",
       "       (b'335651', 0.0, 0.02, 1), (b'335651', 0.0, 0.02, 1),\n",
       "       (b'335651', 0.0, 0.02, 1), (b'335651', 0.0, 0.02, 1),\n",
       "       (b'335651', 0.0, 0.02, 1), (b'335651', 0.0, 0.02, 1),\n",
       "       (b'335651', 0.0, 0.02, 1), (b'335651', 0.0, 0.02, 1),\n",
       "       (b'335651', 0.0, 0.02, 1), (b'335651', 0.0, 0.02, 1),\n",
       "       (b'335651', 0.0, 0.02, 1), (b'335651', 0.0, 0.02, 1),\n",
       "       (b'335651', 0.0, 0.02, 1), (b'335651', 0.0, 0.02, 1),\n",
       "       (b'335651', 0.0, 0.02, 1), (b'335651', 0.0, 0.02, 1),\n",
       "       (b'335651', 0.0, 0.02, 1), (b'335651', 0.0, 0.02, 1),\n",
       "       (b'335651', 0.0, 0.02, 1), (b'335651', 0.0, 0.02, 1),\n",
       "       (b'335651', 0.0, 0.02, 1), (b'335651', 0.0, 0.02, 1),\n",
       "       (b'335651', 0.0, 0.02, 1), (b'335651', 0.0, 0.02, 1),\n",
       "       (b'335651', 0.0, 0.02, 1), (b'335651', 0.0, 0.02, 1),\n",
       "       (b'335651', 0.0, 0.02, 1), (b'335651', 0.0, 0.02, 1),\n",
       "       (b'335651', 0.0, 0.02, 1), (b'335651', 0.0, 0.02, 1),\n",
       "       (b'335651', 0.0, 0.02, 1), (b'335651', 0.0, 0.02, 1),\n",
       "       (b'335651', 0.0, 0.02, 1), (b'335651', 0.0, 0.02, 1),\n",
       "       (b'335651', 0.0, 0.02, 1), (b'335651', 0.0, 0.02, 1),\n",
       "       (b'335651', 0.0, 0.02, 1), (b'335651', 0.0, 0.02, 1),\n",
       "       (b'335651', 0.0, 0.02, 1), (b'335651', 0.0, 0.02, 1),\n",
       "       (b'335651', 0.0, 0.02, 1)], \n",
       "      dtype=[('catchment', 'S10'), ('concentration', '<f8'), ('discharge', '<f8'), ('timestep', '<i4')])"
      ]
     },
     "execution_count": 10,
     "metadata": {},
     "output_type": "execute_result"
    }
   ],
   "source": [
    "data"
   ]
  },
  {
   "cell_type": "code",
   "execution_count": 11,
   "metadata": {
    "collapsed": true
   },
   "outputs": [],
   "source": [
    "table.cols.timestep.create_csindex?"
   ]
  },
  {
   "cell_type": "code",
   "execution_count": 13,
   "metadata": {
    "collapsed": false
   },
   "outputs": [
    {
     "data": {
      "text/plain": [
       "'345.79'"
      ]
     },
     "execution_count": 13,
     "metadata": {},
     "output_type": "execute_result"
    }
   ],
   "source": [
    "'{:.2f}'.format(345.788787)"
   ]
  },
  {
   "cell_type": "code",
   "execution_count": 14,
   "metadata": {
    "collapsed": true
   },
   "outputs": [],
   "source": [
    "import time"
   ]
  },
  {
   "cell_type": "code",
   "execution_count": 15,
   "metadata": {
    "collapsed": true
   },
   "outputs": [],
   "source": [
    "time.mktime?"
   ]
  },
  {
   "cell_type": "code",
   "execution_count": 16,
   "metadata": {
    "collapsed": true
   },
   "outputs": [],
   "source": [
    "time.struct_time?"
   ]
  },
  {
   "cell_type": "code",
   "execution_count": 17,
   "metadata": {
    "collapsed": true
   },
   "outputs": [],
   "source": [
    "time.process_time?"
   ]
  },
  {
   "cell_type": "code",
   "execution_count": 21,
   "metadata": {
    "collapsed": false
   },
   "outputs": [
    {
     "data": {
      "text/plain": [
       "(1, 4)"
      ]
     },
     "execution_count": 21,
     "metadata": {},
     "output_type": "execute_result"
    }
   ],
   "source": [
    "divmod(34, 30)"
   ]
  },
  {
   "cell_type": "code",
   "execution_count": 22,
   "metadata": {
    "collapsed": false
   },
   "outputs": [],
   "source": [
    "from collections import namedtuple"
   ]
  },
  {
   "cell_type": "code",
   "execution_count": 24,
   "metadata": {
    "collapsed": false
   },
   "outputs": [],
   "source": [
    "t = namedtuple('t', ['a', 'b', 'c'])"
   ]
  },
  {
   "cell_type": "code",
   "execution_count": 27,
   "metadata": {
    "collapsed": false
   },
   "outputs": [],
   "source": [
    "x = t(1, 2, 3)"
   ]
  },
  {
   "cell_type": "code",
   "execution_count": 28,
   "metadata": {
    "collapsed": false
   },
   "outputs": [
    {
     "data": {
      "text/plain": [
       "1"
      ]
     },
     "execution_count": 28,
     "metadata": {},
     "output_type": "execute_result"
    }
   ],
   "source": [
    "x[0]"
   ]
  },
  {
   "cell_type": "code",
   "execution_count": 29,
   "metadata": {
    "collapsed": false
   },
   "outputs": [
    {
     "data": {
      "text/plain": [
       "1"
      ]
     },
     "execution_count": 29,
     "metadata": {},
     "output_type": "execute_result"
    }
   ],
   "source": [
    "x.a"
   ]
  },
  {
   "cell_type": "code",
   "execution_count": 30,
   "metadata": {
    "collapsed": false
   },
   "outputs": [
    {
     "data": {
      "text/plain": [
       "1.68787"
      ]
     },
     "execution_count": 30,
     "metadata": {},
     "output_type": "execute_result"
    }
   ],
   "source": [
    "1.68787"
   ]
  },
  {
   "cell_type": "code",
   "execution_count": 31,
   "metadata": {
    "collapsed": false
   },
   "outputs": [
    {
     "data": {
      "text/plain": [
       "(1.0, 0.6699999999999999)"
      ]
     },
     "execution_count": 31,
     "metadata": {},
     "output_type": "execute_result"
    }
   ],
   "source": [
    "divmod(1.67, 1)"
   ]
  },
  {
   "cell_type": "code",
   "execution_count": 32,
   "metadata": {
    "collapsed": false
   },
   "outputs": [
    {
     "data": {
      "text/plain": [
       "(1.0, 0.6699999999999999)"
      ]
     },
     "execution_count": 32,
     "metadata": {},
     "output_type": "execute_result"
    }
   ],
   "source": [
    "divmod(10.67, 10)"
   ]
  },
  {
   "cell_type": "code",
   "execution_count": 33,
   "metadata": {
    "collapsed": false
   },
   "outputs": [
    {
     "data": {
      "text/plain": [
       "(6.0, 0.07600000000000001)"
      ]
     },
     "execution_count": 33,
     "metadata": {},
     "output_type": "execute_result"
    }
   ],
   "source": [
    "divmod(0.676, 0.1)"
   ]
  },
  {
   "cell_type": "code",
   "execution_count": 35,
   "metadata": {
    "collapsed": false
   },
   "outputs": [
    {
     "data": {
      "text/plain": [
       "'00010'"
      ]
     },
     "execution_count": 35,
     "metadata": {},
     "output_type": "execute_result"
    }
   ],
   "source": [
    "'{:0{w}d}'.format(10, w=5)"
   ]
  },
  {
   "cell_type": "code",
   "execution_count": 36,
   "metadata": {
    "collapsed": false
   },
   "outputs": [
    {
     "data": {
      "text/plain": [
       "'         5/    657697'"
      ]
     },
     "execution_count": 36,
     "metadata": {},
     "output_type": "execute_result"
    }
   ],
   "source": [
    "'{:{total_width}d}/{:{total_width}d}'.format(5, 657697, total_width=10)"
   ]
  },
  {
   "cell_type": "code",
   "execution_count": 37,
   "metadata": {
    "collapsed": true
   },
   "outputs": [],
   "source": [
    "import time"
   ]
  },
  {
   "cell_type": "code",
   "execution_count": 38,
   "metadata": {
    "collapsed": false
   },
   "outputs": [
    {
     "name": "stdout",
     "output_type": "stream",
     "text": [
      "10 loops, best of 3: 109 ms per loop\n"
     ]
    }
   ],
   "source": [
    "%timeit time.sleep(0.1)"
   ]
  },
  {
   "cell_type": "code",
   "execution_count": 39,
   "metadata": {
    "collapsed": false
   },
   "outputs": [
    {
     "name": "stdout",
     "output_type": "stream",
     "text": [
      "100 loops, best of 3: 15.6 ms per loop\n"
     ]
    }
   ],
   "source": [
    "%timeit time.sleep(0.01)"
   ]
  },
  {
   "cell_type": "code",
   "execution_count": 40,
   "metadata": {
    "collapsed": false
   },
   "outputs": [
    {
     "name": "stdout",
     "output_type": "stream",
     "text": [
      "100 loops, best of 3: 15.6 ms per loop\n"
     ]
    }
   ],
   "source": [
    "%timeit time.sleep(0.001)"
   ]
  },
  {
   "cell_type": "code",
   "execution_count": 41,
   "metadata": {
    "collapsed": false
   },
   "outputs": [
    {
     "name": "stdout",
     "output_type": "stream",
     "text": [
      "The slowest run took 781.58 times longer than the fastest. This could mean that an intermediate result is being cached \n",
      "1000000 loops, best of 3: 385 ns per loop\n"
     ]
    }
   ],
   "source": [
    "%timeit time.sleep(0.0001)"
   ]
  },
  {
   "cell_type": "code",
   "execution_count": 50,
   "metadata": {
    "collapsed": false
   },
   "outputs": [
    {
     "name": "stdout",
     "output_type": "stream",
     "text": [
      "The slowest run took 84.55 times longer than the fastest. This could mean that an intermediate result is being cached \n",
      "1000000 loops, best of 3: 374 ns per loop\n"
     ]
    }
   ],
   "source": [
    "%timeit time.sleep(0.0001)"
   ]
  },
  {
   "cell_type": "code",
   "execution_count": 54,
   "metadata": {
    "collapsed": true
   },
   "outputs": [],
   "source": [
    "from time import sleep"
   ]
  },
  {
   "cell_type": "markdown",
   "metadata": {},
   "source": [
    "1 s"
   ]
  },
  {
   "cell_type": "code",
   "execution_count": 55,
   "metadata": {
    "collapsed": false
   },
   "outputs": [
    {
     "name": "stdout",
     "output_type": "stream",
     "text": [
      "1 loops, best of 3: 1.01 s per loop\n"
     ]
    }
   ],
   "source": [
    "%%timeit\n",
    "for x in range(1):\n",
    "    sleep(1)"
   ]
  },
  {
   "cell_type": "markdown",
   "metadata": {},
   "source": [
    "100 ms"
   ]
  },
  {
   "cell_type": "code",
   "execution_count": 52,
   "metadata": {
    "collapsed": false
   },
   "outputs": [
    {
     "name": "stdout",
     "output_type": "stream",
     "text": [
      "1 loops, best of 3: 1.09 s per loop\n"
     ]
    }
   ],
   "source": [
    "%%timeit\n",
    "for x in range(10):\n",
    "    sleep(0.1)"
   ]
  },
  {
   "cell_type": "markdown",
   "metadata": {},
   "source": [
    "10 ms"
   ]
  },
  {
   "cell_type": "code",
   "execution_count": 53,
   "metadata": {
    "collapsed": false
   },
   "outputs": [
    {
     "name": "stdout",
     "output_type": "stream",
     "text": [
      "1 loops, best of 3: 1.56 s per loop\n"
     ]
    }
   ],
   "source": [
    "%%timeit\n",
    "for x in range(100):\n",
    "    sleep(0.01)"
   ]
  },
  {
   "cell_type": "markdown",
   "metadata": {},
   "source": [
    "5 ms"
   ]
  },
  {
   "cell_type": "code",
   "execution_count": 47,
   "metadata": {
    "collapsed": false
   },
   "outputs": [
    {
     "name": "stdout",
     "output_type": "stream",
     "text": [
      "1 loops, best of 3: 7.8 s per loop\n"
     ]
    }
   ],
   "source": [
    "%%timeit\n",
    "for x in range(500):\n",
    "    time.sleep(0.005)"
   ]
  },
  {
   "cell_type": "markdown",
   "metadata": {},
   "source": [
    "1 ms"
   ]
  },
  {
   "cell_type": "code",
   "execution_count": 44,
   "metadata": {
    "collapsed": false
   },
   "outputs": [
    {
     "name": "stdout",
     "output_type": "stream",
     "text": [
      "1 loops, best of 3: 15.6 s per loop\n"
     ]
    }
   ],
   "source": [
    "%%timeit\n",
    "for x in range(1000):\n",
    "    time.sleep(0.001)"
   ]
  },
  {
   "cell_type": "markdown",
   "metadata": {},
   "source": [
    "100 ns"
   ]
  },
  {
   "cell_type": "code",
   "execution_count": 45,
   "metadata": {
    "collapsed": false
   },
   "outputs": [
    {
     "name": "stdout",
     "output_type": "stream",
     "text": [
      "100 loops, best of 3: 3.76 ms per loop\n"
     ]
    }
   ],
   "source": [
    "%%timeit\n",
    "for x in range(10000):\n",
    "    time.sleep(0.0001)"
   ]
  },
  {
   "cell_type": "code",
   "execution_count": 46,
   "metadata": {
    "collapsed": false
   },
   "outputs": [
    {
     "data": {
      "text/plain": [
       "<module 'time' (built-in)>"
      ]
     },
     "execution_count": 46,
     "metadata": {},
     "output_type": "execute_result"
    }
   ],
   "source": [
    "time.__format__"
   ]
  },
  {
   "cell_type": "code",
   "execution_count": 57,
   "metadata": {
    "collapsed": false
   },
   "outputs": [
    {
     "data": {
      "text/plain": [
       "157.68"
      ]
     },
     "execution_count": 57,
     "metadata": {},
     "output_type": "execute_result"
    }
   ],
   "source": [
    "8760 * 18000 / 1e6"
   ]
  },
  {
   "cell_type": "code",
   "execution_count": 58,
   "metadata": {
    "collapsed": true
   },
   "outputs": [],
   "source": [
    "from multiprocessing import cpu_count"
   ]
  },
  {
   "cell_type": "code",
   "execution_count": 59,
   "metadata": {
    "collapsed": false
   },
   "outputs": [
    {
     "data": {
      "text/plain": [
       "4"
      ]
     },
     "execution_count": 59,
     "metadata": {},
     "output_type": "execute_result"
    }
   ],
   "source": [
    "cpu_count()"
   ]
  },
  {
   "cell_type": "code",
   "execution_count": 62,
   "metadata": {
    "collapsed": true
   },
   "outputs": [],
   "source": [
    "from collections import defaultdict"
   ]
  },
  {
   "cell_type": "code",
   "execution_count": 63,
   "metadata": {
    "collapsed": true
   },
   "outputs": [],
   "source": [
    "defaultdict?"
   ]
  },
  {
   "cell_type": "code",
   "execution_count": 65,
   "metadata": {
    "collapsed": false
   },
   "outputs": [],
   "source": [
    "import sys"
   ]
  },
  {
   "cell_type": "code",
   "execution_count": 71,
   "metadata": {
    "collapsed": true
   },
   "outputs": [],
   "source": [
    "sys.path.append(r'c:\\Daten\\Mike\\projekte\\2015_006_crosswater\\crosswater')"
   ]
  },
  {
   "cell_type": "code",
   "execution_count": 72,
   "metadata": {
    "collapsed": false
   },
   "outputs": [
    {
     "data": {
      "text/plain": [
       "['',\n",
       " 'c:\\\\Daten\\\\Mike\\\\projekte\\\\modglue\\\\source',\n",
       " 'c:\\\\Daten\\\\Mike\\\\projekte\\\\dev',\n",
       " 'c:\\\\Daten\\\\Mike\\\\projekte\\\\dev\\\\pitlakq',\n",
       " 'c:\\\\Daten\\\\Mike\\\\projekte\\\\dev\\\\phreeqpy',\n",
       " 'C:\\\\Users\\\\Mike\\\\Miniconda3\\\\envs\\\\crosswater\\\\python34.zip',\n",
       " 'C:\\\\Users\\\\Mike\\\\Miniconda3\\\\envs\\\\crosswater\\\\DLLs',\n",
       " 'C:\\\\Users\\\\Mike\\\\Miniconda3\\\\envs\\\\crosswater\\\\lib',\n",
       " 'C:\\\\Users\\\\Mike\\\\Miniconda3\\\\envs\\\\crosswater',\n",
       " 'C:\\\\Users\\\\Mike\\\\Miniconda3\\\\envs\\\\crosswater\\\\lib\\\\site-packages',\n",
       " 'C:\\\\Users\\\\Mike\\\\Miniconda3\\\\envs\\\\crosswater\\\\lib\\\\site-packages\\\\setuptools-18.0.1-py3.4.egg',\n",
       " 'C:\\\\Users\\\\Mike\\\\Miniconda3\\\\envs\\\\crosswater\\\\lib\\\\site-packages\\\\IPython\\\\extensions',\n",
       " 'c:\\\\Daten\\\\Mike\\\\projekte\\\\2015_006_crosswater\\\\crosswater']"
      ]
     },
     "execution_count": 72,
     "metadata": {},
     "output_type": "execute_result"
    }
   ],
   "source": [
    "sys.path"
   ]
  },
  {
   "cell_type": "code",
   "execution_count": 195,
   "metadata": {
    "collapsed": false
   },
   "outputs": [],
   "source": [
    "import imp\n",
    "f_name = r'c:\\Daten\\Mike\\projekte\\2015_006_crosswater\\Daten\\GIS\\CATCHMENTS_Rhine.dbf'\n",
    "import crosswater.routing_model.routing as rout"
   ]
  },
  {
   "cell_type": "code",
   "execution_count": 197,
   "metadata": {
    "collapsed": false
   },
   "outputs": [],
   "source": [
    "imp.reload(rout)\n",
    "con = rout.Connections(f_name)"
   ]
  },
  {
   "cell_type": "code",
   "execution_count": 198,
   "metadata": {
    "collapsed": false
   },
   "outputs": [
    {
     "data": {
      "text/html": [
       "<div>\n",
       "                    <table border=\"1\">\n",
       "                      <thead>\n",
       "                        <tr style=\"text-align: right;\">\n",
       "                          <th>Number of connections</th>\n",
       "                          <th>Count</th>\n",
       "                        </tr>\n",
       "                      </thead>\n",
       "                      <tbody><tr><td>1</td>\n",
       "            <td style=\"text-align: right;\">1531</td></tr>\n",
       "<tr><td>2</td>\n",
       "            <td style=\"text-align: right;\">5081</td></tr>\n",
       "<tr><td>3</td>\n",
       "            <td style=\"text-align: right;\">1439</td></tr>\n",
       "<tr><td>4</td>\n",
       "            <td style=\"text-align: right;\">394</td></tr>\n",
       "<tr><td>5</td>\n",
       "            <td style=\"text-align: right;\">92</td></tr>\n",
       "<tr><td>6</td>\n",
       "            <td style=\"text-align: right;\">20</td></tr>\n",
       "<tr><td>7</td>\n",
       "            <td style=\"text-align: right;\">6</td></tr>\n",
       "<tr><td>8</td>\n",
       "            <td style=\"text-align: right;\">4</td></tr>\n",
       "<tr><th>Sum</td> <th style=\"text-align: right;\">8567</th></tr>\n",
       "<tr><th>Sum normalized</td>\n",
       "        <th style=\"text-align: right;\">18240</th></tr>\n",
       "                    </tbody>\n",
       "                    </table>\n",
       "                    </div>"
      ],
      "text/plain": [
       "ncon   | count\n",
       "==============\n",
       "1      |  1531\n",
       "2      |  5081\n",
       "3      |  1439\n",
       "4      |   394\n",
       "5      |    92\n",
       "6      |    20\n",
       "7      |     6\n",
       "8      |     4"
      ]
     },
     "execution_count": 198,
     "metadata": {},
     "output_type": "execute_result"
    }
   ],
   "source": [
    "con.counts"
   ]
  },
  {
   "cell_type": "code",
   "execution_count": 199,
   "metadata": {
    "collapsed": false
   },
   "outputs": [],
   "source": [
    "up_con = rout.Connections(f_name, direction='up')"
   ]
  },
  {
   "cell_type": "code",
   "execution_count": 200,
   "metadata": {
    "collapsed": false
   },
   "outputs": [
    {
     "data": {
      "text/html": [
       "<div>\n",
       "                    <table border=\"1\">\n",
       "                      <thead>\n",
       "                        <tr style=\"text-align: right;\">\n",
       "                          <th>Number of connections</th>\n",
       "                          <th>Count</th>\n",
       "                        </tr>\n",
       "                      </thead>\n",
       "                      <tbody><tr><td>1</td>\n",
       "            <td style=\"text-align: right;\">18240</td></tr>\n",
       "<tr><th>Sum</td> <th style=\"text-align: right;\">18240</th></tr>\n",
       "<tr><th>Sum normalized</td>\n",
       "        <th style=\"text-align: right;\">18240</th></tr>\n",
       "                    </tbody>\n",
       "                    </table>\n",
       "                    </div>"
      ],
      "text/plain": [
       "ncon   | count\n",
       "==============\n",
       "1      | 18240"
      ]
     },
     "execution_count": 200,
     "metadata": {},
     "output_type": "execute_result"
    }
   ],
   "source": [
    "up_con.counts"
   ]
  },
  {
   "cell_type": "code",
   "execution_count": 202,
   "metadata": {
    "collapsed": false
   },
   "outputs": [],
   "source": [
    "from crosswater.preprocessing.hdf_input import read_dbf_cols"
   ]
  },
  {
   "cell_type": "code",
   "execution_count": 212,
   "metadata": {
    "collapsed": false
   },
   "outputs": [],
   "source": [
    "col_names = ['AREA', 'AREA_UPSTR', 'NEXTDOWNID', 'WSO1_ID']\n",
    "cols = read_dbf_cols(f_name, col_names)\n",
    "ids = cols.pop( 'WSO1_ID')\n",
    "df = pd.DataFrame(cols, index=ids)"
   ]
  },
  {
   "cell_type": "code",
   "execution_count": 216,
   "metadata": {
    "collapsed": false
   },
   "outputs": [
    {
     "data": {
      "text/plain": [
       "160221370000.0"
      ]
     },
     "execution_count": 216,
     "metadata": {},
     "output_type": "execute_result"
    }
   ],
   "source": [
    "df.AREA.sum()"
   ]
  },
  {
   "cell_type": "code",
   "execution_count": 217,
   "metadata": {
    "collapsed": false
   },
   "outputs": [
    {
     "data": {
      "text/plain": [
       "25073558080000.0"
      ]
     },
     "execution_count": 217,
     "metadata": {},
     "output_type": "execute_result"
    }
   ],
   "source": [
    "df.AREA_UPSTR.sum()"
   ]
  },
  {
   "cell_type": "code",
   "execution_count": 218,
   "metadata": {
    "collapsed": false
   },
   "outputs": [
    {
     "data": {
      "text/html": [
       "<div>\n",
       "<table border=\"1\" class=\"dataframe\">\n",
       "  <thead>\n",
       "    <tr style=\"text-align: right;\">\n",
       "      <th></th>\n",
       "      <th>AREA</th>\n",
       "      <th>AREA_UPSTR</th>\n",
       "      <th>NEXTDOWNID</th>\n",
       "    </tr>\n",
       "  </thead>\n",
       "  <tbody>\n",
       "    <tr>\n",
       "      <th>346352</th>\n",
       "      <td>3610000</td>\n",
       "      <td>3610000</td>\n",
       "      <td>346382</td>\n",
       "    </tr>\n",
       "    <tr>\n",
       "      <th>346350</th>\n",
       "      <td>8560000</td>\n",
       "      <td>169940000</td>\n",
       "      <td>346351</td>\n",
       "    </tr>\n",
       "    <tr>\n",
       "      <th>346351</th>\n",
       "      <td>8040000</td>\n",
       "      <td>252730000</td>\n",
       "      <td>346359</td>\n",
       "    </tr>\n",
       "    <tr>\n",
       "      <th>346358</th>\n",
       "      <td>6040000</td>\n",
       "      <td>6040000</td>\n",
       "      <td>346422</td>\n",
       "    </tr>\n",
       "    <tr>\n",
       "      <th>346359</th>\n",
       "      <td>15410000</td>\n",
       "      <td>277900000</td>\n",
       "      <td>346532</td>\n",
       "    </tr>\n",
       "  </tbody>\n",
       "</table>\n",
       "</div>"
      ],
      "text/plain": [
       "            AREA  AREA_UPSTR  NEXTDOWNID\n",
       "346352   3610000     3610000      346382\n",
       "346350   8560000   169940000      346351\n",
       "346351   8040000   252730000      346359\n",
       "346358   6040000     6040000      346422\n",
       "346359  15410000   277900000      346532"
      ]
     },
     "execution_count": 218,
     "metadata": {},
     "output_type": "execute_result"
    }
   ],
   "source": [
    "df.head()"
   ]
  },
  {
   "cell_type": "code",
   "execution_count": 222,
   "metadata": {
    "collapsed": false
   },
   "outputs": [
    {
     "data": {
      "text/html": [
       "<div>\n",
       "<table border=\"1\" class=\"dataframe\">\n",
       "  <thead>\n",
       "    <tr style=\"text-align: right;\">\n",
       "      <th></th>\n",
       "      <th>AREA</th>\n",
       "      <th>AREA_UPSTR</th>\n",
       "      <th>NEXTDOWNID</th>\n",
       "    </tr>\n",
       "  </thead>\n",
       "  <tbody>\n",
       "    <tr>\n",
       "      <th>346373</th>\n",
       "      <td>13840000</td>\n",
       "      <td>13840000</td>\n",
       "      <td>346350</td>\n",
       "    </tr>\n",
       "    <tr>\n",
       "      <th>346349</th>\n",
       "      <td>15660000</td>\n",
       "      <td>147540000</td>\n",
       "      <td>346350</td>\n",
       "    </tr>\n",
       "  </tbody>\n",
       "</table>\n",
       "</div>"
      ],
      "text/plain": [
       "            AREA  AREA_UPSTR  NEXTDOWNID\n",
       "346373  13840000    13840000      346350\n",
       "346349  15660000   147540000      346350"
      ]
     },
     "execution_count": 222,
     "metadata": {},
     "output_type": "execute_result"
    }
   ],
   "source": [
    "sel = df[df.NEXTDOWNID == 346350]\n",
    "sel"
   ]
  },
  {
   "cell_type": "code",
   "execution_count": 228,
   "metadata": {
    "collapsed": false
   },
   "outputs": [
    {
     "data": {
      "text/plain": [
       "29.5"
      ]
     },
     "execution_count": 228,
     "metadata": {},
     "output_type": "execute_result"
    }
   ],
   "source": [
    "sel.AREA.sum() / 1e6"
   ]
  },
  {
   "cell_type": "code",
   "execution_count": 231,
   "metadata": {
    "collapsed": false
   },
   "outputs": [
    {
     "data": {
      "text/plain": [
       "169.94"
      ]
     },
     "execution_count": 231,
     "metadata": {},
     "output_type": "execute_result"
    }
   ],
   "source": [
    "df.ix[346350].AREA_UPSTR /1e6"
   ]
  },
  {
   "cell_type": "code",
   "execution_count": 235,
   "metadata": {
    "collapsed": false
   },
   "outputs": [],
   "source": [
    "c1 = df.ix[346382]"
   ]
  },
  {
   "cell_type": "code",
   "execution_count": 233,
   "metadata": {
    "collapsed": true
   },
   "outputs": [],
   "source": [
    "c0 = df.ix[346352]"
   ]
  },
  {
   "cell_type": "code",
   "execution_count": 234,
   "metadata": {
    "collapsed": false
   },
   "outputs": [
    {
     "data": {
      "text/plain": [
       "AREA          3610000\n",
       "AREA_UPSTR    3610000\n",
       "NEXTDOWNID     346382\n",
       "Name: 346352, dtype: float64"
      ]
     },
     "execution_count": 234,
     "metadata": {},
     "output_type": "execute_result"
    }
   ],
   "source": [
    "c0"
   ]
  },
  {
   "cell_type": "code",
   "execution_count": 236,
   "metadata": {
    "collapsed": false
   },
   "outputs": [
    {
     "data": {
      "text/plain": [
       "AREA           2910000\n",
       "AREA_UPSTR    55050000\n",
       "NEXTDOWNID      346653\n",
       "Name: 346382, dtype: float64"
      ]
     },
     "execution_count": 236,
     "metadata": {},
     "output_type": "execute_result"
    }
   ],
   "source": [
    "c1"
   ]
  },
  {
   "cell_type": "code",
   "execution_count": 238,
   "metadata": {
    "collapsed": false
   },
   "outputs": [
    {
     "data": {
      "text/plain": [
       "6520000.0"
      ]
     },
     "execution_count": 238,
     "metadata": {},
     "output_type": "execute_result"
    }
   ],
   "source": [
    "c1.AREA + c0.AREA"
   ]
  },
  {
   "cell_type": "code",
   "execution_count": 239,
   "metadata": {
    "collapsed": true
   },
   "outputs": [],
   "source": [
    "up = df[df.NEXTDOWNID == 346382]"
   ]
  },
  {
   "cell_type": "code",
   "execution_count": 245,
   "metadata": {
    "collapsed": false
   },
   "outputs": [
    {
     "data": {
      "text/plain": [
       "True"
      ]
     },
     "execution_count": 245,
     "metadata": {},
     "output_type": "execute_result"
    }
   ],
   "source": [
    "up.AREA_UPSTR.sum() + c1.AREA == c1.AREA_UPSTR"
   ]
  },
  {
   "cell_type": "code",
   "execution_count": 243,
   "metadata": {
    "collapsed": false
   },
   "outputs": [
    {
     "data": {
      "text/html": [
       "<div>\n",
       "<table border=\"1\" class=\"dataframe\">\n",
       "  <thead>\n",
       "    <tr style=\"text-align: right;\">\n",
       "      <th></th>\n",
       "      <th>AREA</th>\n",
       "      <th>AREA_UPSTR</th>\n",
       "      <th>NEXTDOWNID</th>\n",
       "    </tr>\n",
       "  </thead>\n",
       "  <tbody>\n",
       "    <tr>\n",
       "      <th>346352</th>\n",
       "      <td>3610000</td>\n",
       "      <td>3610000</td>\n",
       "      <td>346382</td>\n",
       "    </tr>\n",
       "    <tr>\n",
       "      <th>346273</th>\n",
       "      <td>3360000</td>\n",
       "      <td>48530000</td>\n",
       "      <td>346382</td>\n",
       "    </tr>\n",
       "  </tbody>\n",
       "</table>\n",
       "</div>"
      ],
      "text/plain": [
       "           AREA  AREA_UPSTR  NEXTDOWNID\n",
       "346352  3610000     3610000      346382\n",
       "346273  3360000    48530000      346382"
      ]
     },
     "execution_count": 243,
     "metadata": {},
     "output_type": "execute_result"
    }
   ],
   "source": [
    "up"
   ]
  },
  {
   "cell_type": "code",
   "execution_count": 256,
   "metadata": {
    "collapsed": false
   },
   "outputs": [],
   "source": [
    "level_0 = df[df.AREA == df.AREA_UPSTR]"
   ]
  },
  {
   "cell_type": "code",
   "execution_count": 248,
   "metadata": {
    "collapsed": false
   },
   "outputs": [
    {
     "data": {
      "text/plain": [
       "18240"
      ]
     },
     "execution_count": 248,
     "metadata": {},
     "output_type": "execute_result"
    }
   ],
   "source": [
    "len(df)"
   ]
  },
  {
   "cell_type": "code",
   "execution_count": 254,
   "metadata": {
    "collapsed": false
   },
   "outputs": [
    {
     "data": {
      "text/plain": [
       "160.22137000000001"
      ]
     },
     "execution_count": 254,
     "metadata": {},
     "output_type": "execute_result"
    }
   ],
   "source": [
    "df.AREA.sum() / 1e9"
   ]
  },
  {
   "cell_type": "code",
   "execution_count": 255,
   "metadata": {
    "collapsed": false
   },
   "outputs": [
    {
     "data": {
      "text/plain": [
       "25073.558079999999"
      ]
     },
     "execution_count": 255,
     "metadata": {},
     "output_type": "execute_result"
    }
   ],
   "source": [
    "df.AREA_UPSTR.sum() /1e9"
   ]
  },
  {
   "cell_type": "code",
   "execution_count": 257,
   "metadata": {
    "collapsed": false
   },
   "outputs": [
    {
     "data": {
      "text/plain": [
       "True"
      ]
     },
     "execution_count": 257,
     "metadata": {},
     "output_type": "execute_result"
    }
   ],
   "source": [
    "level_0.AREA.sum() == level_0.AREA_UPSTR.sum()"
   ]
  },
  {
   "cell_type": "code",
   "execution_count": 260,
   "metadata": {
    "collapsed": false
   },
   "outputs": [
    {
     "data": {
      "text/plain": [
       "True"
      ]
     },
     "execution_count": 260,
     "metadata": {},
     "output_type": "execute_result"
    }
   ],
   "source": [
    "df.AREA_UPSTR.max() == df.AREA.sum()"
   ]
  },
  {
   "cell_type": "code",
   "execution_count": 264,
   "metadata": {
    "collapsed": false
   },
   "outputs": [],
   "source": [
    "root = df[df.AREA_UPSTR == df.AREA_UPSTR.max()]"
   ]
  },
  {
   "cell_type": "code",
   "execution_count": 263,
   "metadata": {
    "collapsed": false
   },
   "outputs": [
    {
     "data": {
      "text/html": [
       "<div>\n",
       "<table border=\"1\" class=\"dataframe\">\n",
       "  <thead>\n",
       "    <tr style=\"text-align: right;\">\n",
       "      <th></th>\n",
       "      <th>AREA</th>\n",
       "      <th>AREA_UPSTR</th>\n",
       "      <th>NEXTDOWNID</th>\n",
       "    </tr>\n",
       "  </thead>\n",
       "  <tbody>\n",
       "    <tr>\n",
       "      <th>324482</th>\n",
       "      <td>57090000</td>\n",
       "      <td>1.599694e+11</td>\n",
       "      <td>324498</td>\n",
       "    </tr>\n",
       "    <tr>\n",
       "      <th>324496</th>\n",
       "      <td>126700000</td>\n",
       "      <td>1.586300e+08</td>\n",
       "      <td>324498</td>\n",
       "    </tr>\n",
       "  </tbody>\n",
       "</table>\n",
       "</div>"
      ],
      "text/plain": [
       "             AREA    AREA_UPSTR  NEXTDOWNID\n",
       "324482   57090000  1.599694e+11      324498\n",
       "324496  126700000  1.586300e+08      324498"
      ]
     },
     "execution_count": 263,
     "metadata": {},
     "output_type": "execute_result"
    }
   ],
   "source": [
    "df[df.NEXTDOWNID==324498]"
   ]
  },
  {
   "cell_type": "code",
   "execution_count": 277,
   "metadata": {
    "collapsed": false
   },
   "outputs": [
    {
     "data": {
      "text/html": [
       "<div>\n",
       "<table border=\"1\" class=\"dataframe\">\n",
       "  <thead>\n",
       "    <tr style=\"text-align: right;\">\n",
       "      <th></th>\n",
       "      <th>AREA</th>\n",
       "      <th>AREA_UPSTR</th>\n",
       "      <th>NEXTDOWNID</th>\n",
       "    </tr>\n",
       "  </thead>\n",
       "  <tbody>\n",
       "    <tr>\n",
       "      <th>324482</th>\n",
       "      <td>57090000</td>\n",
       "      <td>1.599694e+11</td>\n",
       "      <td>324498</td>\n",
       "    </tr>\n",
       "    <tr>\n",
       "      <th>324496</th>\n",
       "      <td>126700000</td>\n",
       "      <td>1.586300e+08</td>\n",
       "      <td>324498</td>\n",
       "    </tr>\n",
       "  </tbody>\n",
       "</table>\n",
       "</div>"
      ],
      "text/plain": [
       "             AREA    AREA_UPSTR  NEXTDOWNID\n",
       "324482   57090000  1.599694e+11      324498\n",
       "324496  126700000  1.586300e+08      324498"
      ]
     },
     "execution_count": 277,
     "metadata": {},
     "output_type": "execute_result"
    }
   ],
   "source": [
    "child1 = df[df.NEXTDOWNID.isin(root.index)]\n",
    "child1"
   ]
  },
  {
   "cell_type": "code",
   "execution_count": 278,
   "metadata": {
    "collapsed": false
   },
   "outputs": [
    {
     "data": {
      "text/html": [
       "<div>\n",
       "<table border=\"1\" class=\"dataframe\">\n",
       "  <thead>\n",
       "    <tr style=\"text-align: right;\">\n",
       "      <th></th>\n",
       "      <th>AREA</th>\n",
       "      <th>AREA_UPSTR</th>\n",
       "      <th>NEXTDOWNID</th>\n",
       "    </tr>\n",
       "  </thead>\n",
       "  <tbody>\n",
       "    <tr>\n",
       "      <th>324497</th>\n",
       "      <td>87690000</td>\n",
       "      <td>8.769000e+07</td>\n",
       "      <td>324482</td>\n",
       "    </tr>\n",
       "    <tr>\n",
       "      <th>324542</th>\n",
       "      <td>16770000</td>\n",
       "      <td>1.677000e+07</td>\n",
       "      <td>324496</td>\n",
       "    </tr>\n",
       "    <tr>\n",
       "      <th>324549</th>\n",
       "      <td>15160000</td>\n",
       "      <td>1.516000e+07</td>\n",
       "      <td>324496</td>\n",
       "    </tr>\n",
       "    <tr>\n",
       "      <th>324501</th>\n",
       "      <td>7440000</td>\n",
       "      <td>1.598246e+11</td>\n",
       "      <td>324482</td>\n",
       "    </tr>\n",
       "  </tbody>\n",
       "</table>\n",
       "</div>"
      ],
      "text/plain": [
       "            AREA    AREA_UPSTR  NEXTDOWNID\n",
       "324497  87690000  8.769000e+07      324482\n",
       "324542  16770000  1.677000e+07      324496\n",
       "324549  15160000  1.516000e+07      324496\n",
       "324501   7440000  1.598246e+11      324482"
      ]
     },
     "execution_count": 278,
     "metadata": {},
     "output_type": "execute_result"
    }
   ],
   "source": [
    "child2 = df[df.NEXTDOWNID.isin(child1.index)]\n",
    "child2"
   ]
  },
  {
   "cell_type": "code",
   "execution_count": 279,
   "metadata": {
    "collapsed": false
   },
   "outputs": [
    {
     "data": {
      "text/html": [
       "<div>\n",
       "<table border=\"1\" class=\"dataframe\">\n",
       "  <thead>\n",
       "    <tr style=\"text-align: right;\">\n",
       "      <th></th>\n",
       "      <th>AREA</th>\n",
       "      <th>AREA_UPSTR</th>\n",
       "      <th>NEXTDOWNID</th>\n",
       "    </tr>\n",
       "  </thead>\n",
       "  <tbody>\n",
       "    <tr>\n",
       "      <th>324520</th>\n",
       "      <td>5930000</td>\n",
       "      <td>1.598128e+11</td>\n",
       "      <td>324501</td>\n",
       "    </tr>\n",
       "    <tr>\n",
       "      <th>324517</th>\n",
       "      <td>4450000</td>\n",
       "      <td>4.450000e+06</td>\n",
       "      <td>324501</td>\n",
       "    </tr>\n",
       "  </tbody>\n",
       "</table>\n",
       "</div>"
      ],
      "text/plain": [
       "           AREA    AREA_UPSTR  NEXTDOWNID\n",
       "324520  5930000  1.598128e+11      324501\n",
       "324517  4450000  4.450000e+06      324501"
      ]
     },
     "execution_count": 279,
     "metadata": {},
     "output_type": "execute_result"
    }
   ],
   "source": [
    "child3 = df[df.NEXTDOWNID.isin(child2.index)]\n",
    "child3"
   ]
  },
  {
   "cell_type": "code",
   "execution_count": 280,
   "metadata": {
    "collapsed": false
   },
   "outputs": [
    {
     "data": {
      "text/html": [
       "<div>\n",
       "<table border=\"1\" class=\"dataframe\">\n",
       "  <thead>\n",
       "    <tr style=\"text-align: right;\">\n",
       "      <th></th>\n",
       "      <th>AREA</th>\n",
       "      <th>AREA_UPSTR</th>\n",
       "      <th>NEXTDOWNID</th>\n",
       "    </tr>\n",
       "  </thead>\n",
       "  <tbody>\n",
       "    <tr>\n",
       "      <th>324529</th>\n",
       "      <td>2860000</td>\n",
       "      <td>1.598038e+11</td>\n",
       "      <td>324520</td>\n",
       "    </tr>\n",
       "    <tr>\n",
       "      <th>324531</th>\n",
       "      <td>3080000</td>\n",
       "      <td>3.080000e+06</td>\n",
       "      <td>324520</td>\n",
       "    </tr>\n",
       "  </tbody>\n",
       "</table>\n",
       "</div>"
      ],
      "text/plain": [
       "           AREA    AREA_UPSTR  NEXTDOWNID\n",
       "324529  2860000  1.598038e+11      324520\n",
       "324531  3080000  3.080000e+06      324520"
      ]
     },
     "execution_count": 280,
     "metadata": {},
     "output_type": "execute_result"
    }
   ],
   "source": [
    "child4 = df[df.NEXTDOWNID.isin(child3.index)]\n",
    "child4"
   ]
  },
  {
   "cell_type": "code",
   "execution_count": 281,
   "metadata": {
    "collapsed": false
   },
   "outputs": [
    {
     "data": {
      "text/html": [
       "<div>\n",
       "<table border=\"1\" class=\"dataframe\">\n",
       "  <thead>\n",
       "    <tr style=\"text-align: right;\">\n",
       "      <th></th>\n",
       "      <th>AREA</th>\n",
       "      <th>AREA_UPSTR</th>\n",
       "      <th>NEXTDOWNID</th>\n",
       "    </tr>\n",
       "  </thead>\n",
       "  <tbody>\n",
       "    <tr>\n",
       "      <th>324534</th>\n",
       "      <td>11870000</td>\n",
       "      <td>1.596768e+11</td>\n",
       "      <td>324529</td>\n",
       "    </tr>\n",
       "    <tr>\n",
       "      <th>324532</th>\n",
       "      <td>40530000</td>\n",
       "      <td>1.241100e+08</td>\n",
       "      <td>324529</td>\n",
       "    </tr>\n",
       "  </tbody>\n",
       "</table>\n",
       "</div>"
      ],
      "text/plain": [
       "            AREA    AREA_UPSTR  NEXTDOWNID\n",
       "324534  11870000  1.596768e+11      324529\n",
       "324532  40530000  1.241100e+08      324529"
      ]
     },
     "execution_count": 281,
     "metadata": {},
     "output_type": "execute_result"
    }
   ],
   "source": [
    "child5 = df[df.NEXTDOWNID.isin(child4.index)]\n",
    "child5"
   ]
  },
  {
   "cell_type": "code",
   "execution_count": 282,
   "metadata": {
    "collapsed": false
   },
   "outputs": [
    {
     "data": {
      "text/html": [
       "<div>\n",
       "<table border=\"1\" class=\"dataframe\">\n",
       "  <thead>\n",
       "    <tr style=\"text-align: right;\">\n",
       "      <th></th>\n",
       "      <th>AREA</th>\n",
       "      <th>AREA_UPSTR</th>\n",
       "      <th>NEXTDOWNID</th>\n",
       "    </tr>\n",
       "  </thead>\n",
       "  <tbody>\n",
       "    <tr>\n",
       "      <th>324607</th>\n",
       "      <td>66190000</td>\n",
       "      <td>6.619000e+07</td>\n",
       "      <td>324532</td>\n",
       "    </tr>\n",
       "    <tr>\n",
       "      <th>324609</th>\n",
       "      <td>17390000</td>\n",
       "      <td>1.739000e+07</td>\n",
       "      <td>324532</td>\n",
       "    </tr>\n",
       "    <tr>\n",
       "      <th>324546</th>\n",
       "      <td>47030000</td>\n",
       "      <td>4.703000e+07</td>\n",
       "      <td>324534</td>\n",
       "    </tr>\n",
       "    <tr>\n",
       "      <th>324611</th>\n",
       "      <td>23280000</td>\n",
       "      <td>1.596179e+11</td>\n",
       "      <td>324534</td>\n",
       "    </tr>\n",
       "  </tbody>\n",
       "</table>\n",
       "</div>"
      ],
      "text/plain": [
       "            AREA    AREA_UPSTR  NEXTDOWNID\n",
       "324607  66190000  6.619000e+07      324532\n",
       "324609  17390000  1.739000e+07      324532\n",
       "324546  47030000  4.703000e+07      324534\n",
       "324611  23280000  1.596179e+11      324534"
      ]
     },
     "execution_count": 282,
     "metadata": {},
     "output_type": "execute_result"
    }
   ],
   "source": [
    "child6 = df[df.NEXTDOWNID.isin(child5.index)]\n",
    "child6"
   ]
  },
  {
   "cell_type": "code",
   "execution_count": 283,
   "metadata": {
    "collapsed": false
   },
   "outputs": [
    {
     "data": {
      "text/html": [
       "<div>\n",
       "<table border=\"1\" class=\"dataframe\">\n",
       "  <thead>\n",
       "    <tr style=\"text-align: right;\">\n",
       "      <th></th>\n",
       "      <th>AREA</th>\n",
       "      <th>AREA_UPSTR</th>\n",
       "      <th>NEXTDOWNID</th>\n",
       "    </tr>\n",
       "  </thead>\n",
       "  <tbody>\n",
       "    <tr>\n",
       "      <th>324614</th>\n",
       "      <td>30540000</td>\n",
       "      <td>3.054000e+07</td>\n",
       "      <td>324611</td>\n",
       "    </tr>\n",
       "    <tr>\n",
       "      <th>324621</th>\n",
       "      <td>25870000</td>\n",
       "      <td>1.595641e+11</td>\n",
       "      <td>324611</td>\n",
       "    </tr>\n",
       "  </tbody>\n",
       "</table>\n",
       "</div>"
      ],
      "text/plain": [
       "            AREA    AREA_UPSTR  NEXTDOWNID\n",
       "324614  30540000  3.054000e+07      324611\n",
       "324621  25870000  1.595641e+11      324611"
      ]
     },
     "execution_count": 283,
     "metadata": {},
     "output_type": "execute_result"
    }
   ],
   "source": [
    "child7 = df[df.NEXTDOWNID.isin(child6.index)]\n",
    "child7"
   ]
  },
  {
   "cell_type": "code",
   "execution_count": 284,
   "metadata": {
    "collapsed": false
   },
   "outputs": [
    {
     "data": {
      "text/html": [
       "<div>\n",
       "<table border=\"1\" class=\"dataframe\">\n",
       "  <thead>\n",
       "    <tr style=\"text-align: right;\">\n",
       "      <th></th>\n",
       "      <th>AREA</th>\n",
       "      <th>AREA_UPSTR</th>\n",
       "      <th>NEXTDOWNID</th>\n",
       "    </tr>\n",
       "  </thead>\n",
       "  <tbody>\n",
       "    <tr>\n",
       "      <th>324675</th>\n",
       "      <td>76960000</td>\n",
       "      <td>7.696000e+07</td>\n",
       "      <td>324621</td>\n",
       "    </tr>\n",
       "    <tr>\n",
       "      <th>324689</th>\n",
       "      <td>8680000</td>\n",
       "      <td>1.594282e+11</td>\n",
       "      <td>324621</td>\n",
       "    </tr>\n",
       "    <tr>\n",
       "      <th>324660</th>\n",
       "      <td>24470000</td>\n",
       "      <td>3.299000e+07</td>\n",
       "      <td>324621</td>\n",
       "    </tr>\n",
       "  </tbody>\n",
       "</table>\n",
       "</div>"
      ],
      "text/plain": [
       "            AREA    AREA_UPSTR  NEXTDOWNID\n",
       "324675  76960000  7.696000e+07      324621\n",
       "324689   8680000  1.594282e+11      324621\n",
       "324660  24470000  3.299000e+07      324621"
      ]
     },
     "execution_count": 284,
     "metadata": {},
     "output_type": "execute_result"
    }
   ],
   "source": [
    "child8 = df[df.NEXTDOWNID.isin(child7.index)]\n",
    "child8"
   ]
  },
  {
   "cell_type": "code",
   "execution_count": 285,
   "metadata": {
    "collapsed": false
   },
   "outputs": [
    {
     "data": {
      "text/html": [
       "<div>\n",
       "<table border=\"1\" class=\"dataframe\">\n",
       "  <thead>\n",
       "    <tr style=\"text-align: right;\">\n",
       "      <th></th>\n",
       "      <th>AREA</th>\n",
       "      <th>AREA_UPSTR</th>\n",
       "      <th>NEXTDOWNID</th>\n",
       "    </tr>\n",
       "  </thead>\n",
       "  <tbody>\n",
       "    <tr>\n",
       "      <th>324694</th>\n",
       "      <td>2080000</td>\n",
       "      <td>2.080000e+06</td>\n",
       "      <td>324660</td>\n",
       "    </tr>\n",
       "    <tr>\n",
       "      <th>324745</th>\n",
       "      <td>93330000</td>\n",
       "      <td>9.333000e+07</td>\n",
       "      <td>324689</td>\n",
       "    </tr>\n",
       "    <tr>\n",
       "      <th>324748</th>\n",
       "      <td>2160000</td>\n",
       "      <td>2.160000e+06</td>\n",
       "      <td>324689</td>\n",
       "    </tr>\n",
       "    <tr>\n",
       "      <th>324706</th>\n",
       "      <td>2280000</td>\n",
       "      <td>2.280000e+06</td>\n",
       "      <td>324660</td>\n",
       "    </tr>\n",
       "    <tr>\n",
       "      <th>324705</th>\n",
       "      <td>4160000</td>\n",
       "      <td>4.160000e+06</td>\n",
       "      <td>324660</td>\n",
       "    </tr>\n",
       "    <tr>\n",
       "      <th>324757</th>\n",
       "      <td>6460000</td>\n",
       "      <td>1.593241e+11</td>\n",
       "      <td>324689</td>\n",
       "    </tr>\n",
       "  </tbody>\n",
       "</table>\n",
       "</div>"
      ],
      "text/plain": [
       "            AREA    AREA_UPSTR  NEXTDOWNID\n",
       "324694   2080000  2.080000e+06      324660\n",
       "324745  93330000  9.333000e+07      324689\n",
       "324748   2160000  2.160000e+06      324689\n",
       "324706   2280000  2.280000e+06      324660\n",
       "324705   4160000  4.160000e+06      324660\n",
       "324757   6460000  1.593241e+11      324689"
      ]
     },
     "execution_count": 285,
     "metadata": {},
     "output_type": "execute_result"
    }
   ],
   "source": [
    "child9 = df[df.NEXTDOWNID.isin(child8.index)]\n",
    "child9"
   ]
  },
  {
   "cell_type": "code",
   "execution_count": 286,
   "metadata": {
    "collapsed": false
   },
   "outputs": [
    {
     "data": {
      "text/html": [
       "<div>\n",
       "<table border=\"1\" class=\"dataframe\">\n",
       "  <thead>\n",
       "    <tr style=\"text-align: right;\">\n",
       "      <th></th>\n",
       "      <th>AREA</th>\n",
       "      <th>AREA_UPSTR</th>\n",
       "      <th>NEXTDOWNID</th>\n",
       "    </tr>\n",
       "  </thead>\n",
       "  <tbody>\n",
       "    <tr>\n",
       "      <th>324764</th>\n",
       "      <td>4670000</td>\n",
       "      <td>1.593176e+11</td>\n",
       "      <td>324757</td>\n",
       "    </tr>\n",
       "  </tbody>\n",
       "</table>\n",
       "</div>"
      ],
      "text/plain": [
       "           AREA    AREA_UPSTR  NEXTDOWNID\n",
       "324764  4670000  1.593176e+11      324757"
      ]
     },
     "execution_count": 286,
     "metadata": {},
     "output_type": "execute_result"
    }
   ],
   "source": [
    "child10 = df[df.NEXTDOWNID.isin(child9.index)]\n",
    "child10"
   ]
  },
  {
   "cell_type": "code",
   "execution_count": 287,
   "metadata": {
    "collapsed": false
   },
   "outputs": [
    {
     "data": {
      "text/html": [
       "<div>\n",
       "<table border=\"1\" class=\"dataframe\">\n",
       "  <thead>\n",
       "    <tr style=\"text-align: right;\">\n",
       "      <th></th>\n",
       "      <th>AREA</th>\n",
       "      <th>AREA_UPSTR</th>\n",
       "      <th>NEXTDOWNID</th>\n",
       "    </tr>\n",
       "  </thead>\n",
       "  <tbody>\n",
       "    <tr>\n",
       "      <th>324778</th>\n",
       "      <td>5710000</td>\n",
       "      <td>5.710000e+06</td>\n",
       "      <td>324764</td>\n",
       "    </tr>\n",
       "    <tr>\n",
       "      <th>324727</th>\n",
       "      <td>16510000</td>\n",
       "      <td>1.651000e+07</td>\n",
       "      <td>324764</td>\n",
       "    </tr>\n",
       "    <tr>\n",
       "      <th>324775</th>\n",
       "      <td>4480000</td>\n",
       "      <td>1.592907e+11</td>\n",
       "      <td>324764</td>\n",
       "    </tr>\n",
       "  </tbody>\n",
       "</table>\n",
       "</div>"
      ],
      "text/plain": [
       "            AREA    AREA_UPSTR  NEXTDOWNID\n",
       "324778   5710000  5.710000e+06      324764\n",
       "324727  16510000  1.651000e+07      324764\n",
       "324775   4480000  1.592907e+11      324764"
      ]
     },
     "execution_count": 287,
     "metadata": {},
     "output_type": "execute_result"
    }
   ],
   "source": [
    "child11 = df[df.NEXTDOWNID.isin(child10.index)]\n",
    "child11"
   ]
  },
  {
   "cell_type": "code",
   "execution_count": 290,
   "metadata": {
    "collapsed": true
   },
   "outputs": [],
   "source": [
    "pd.read_sql_table?"
   ]
  },
  {
   "cell_type": "code",
   "execution_count": null,
   "metadata": {
    "collapsed": true
   },
   "outputs": [],
   "source": []
  }
 ],
 "metadata": {
  "kernelspec": {
   "display_name": "Python 3",
   "language": "python",
   "name": "python3"
  },
  "language_info": {
   "codemirror_mode": {
    "name": "ipython",
    "version": 3
   },
   "file_extension": ".py",
   "mimetype": "text/x-python",
   "name": "python",
   "nbconvert_exporter": "python",
   "pygments_lexer": "ipython3",
   "version": "3.4.3"
  }
 },
 "nbformat": 4,
 "nbformat_minor": 0
}
